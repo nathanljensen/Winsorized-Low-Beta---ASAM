{
 "cells": [
  {
   "cell_type": "markdown",
   "metadata": {},
   "source": [
    "## Pre-Processing & Investible Universe"
   ]
  },
  {
   "cell_type": "markdown",
   "metadata": {},
   "source": [
    "Notes:\n",
    "Program 2a does a bit of preprocessing/cleaning, but the most important thing is how it limits the investable universe that we examine\n",
    "* Working back from the end goal, we (arbitrarily) want ~2000 stocks (sorted by market cap) to divide up into quintiles at the end\n",
    "* So we create a universe that has 3000 stocks every year just in case\n",
    "  * But because we are looking at previous year’s beta to predict the next year’s returns, we need to make sure that stock exists in both years\n",
    "  * Stocks will enter and leave the top 3000 for various reasons\n",
    "  * So if you look at the total number of stocks that come out of permscreen, it is much larger than the 3000 ever year, but every year you are guaranteed to have 3000 stocks to work with that have a beta signal that year, as well as return data the year after\n",
    "* **Very specific to asam**, since we invest in December, we picked stocks that have returns in end of December, for predicting next year’s returns"
   ]
  },
  {
   "cell_type": "markdown",
   "metadata": {},
   "source": [
    "### Import Packages"
   ]
  },
  {
   "cell_type": "code",
   "execution_count": 2,
   "metadata": {},
   "outputs": [],
   "source": [
    "import pandas as pd\n",
    "import numpy as np\n",
    "import datetime as dt\n",
    "import psycopg2 \n",
    "import matplotlib.pyplot as plt\n",
    "from dateutil.relativedelta import *\n",
    "from pandas.tseries.offsets import *\n",
    "from scipy import stats\n",
    "import statsmodels.api as sm\n",
    "import statistics\n",
    "import sys\n",
    "sys.path.insert(0, \"../\")\n",
    "import util\n",
    "import multiprocessing as mp\n",
    "from  timeit import default_timer as timer"
   ]
  },
  {
   "cell_type": "markdown",
   "metadata": {},
   "source": [
    "### Set Local Macro Variables"
   ]
  },
  {
   "cell_type": "code",
   "execution_count": 3,
   "metadata": {},
   "outputs": [],
   "source": [
    "#num of top market equity to keep\n",
    "numstocks=3000"
   ]
  },
  {
   "cell_type": "markdown",
   "metadata": {},
   "source": [
    "### Read in util.py Function Bank"
   ]
  },
  {
   "cell_type": "code",
   "execution_count": 4,
   "metadata": {},
   "outputs": [],
   "source": [
    "from IPython.lib.backgroundjobs import BackgroundJobFunc\n",
    "\n",
    "with open('util.py') as code:\n",
    "    job = BackgroundJobFunc(exec, code.read())\n",
    "\n",
    "result = job.run()"
   ]
  },
  {
   "cell_type": "markdown",
   "metadata": {},
   "source": [
    "### Import Data"
   ]
  },
  {
   "cell_type": "markdown",
   "metadata": {},
   "source": [
    "#### CRSP Monthly Stock File"
   ]
  },
  {
   "cell_type": "code",
   "execution_count": 5,
   "metadata": {},
   "outputs": [
    {
     "data": {
      "text/html": [
       "<div>\n",
       "<style scoped>\n",
       "    .dataframe tbody tr th:only-of-type {\n",
       "        vertical-align: middle;\n",
       "    }\n",
       "\n",
       "    .dataframe tbody tr th {\n",
       "        vertical-align: top;\n",
       "    }\n",
       "\n",
       "    .dataframe thead th {\n",
       "        text-align: right;\n",
       "    }\n",
       "</style>\n",
       "<table border=\"1\" class=\"dataframe\">\n",
       "  <thead>\n",
       "    <tr style=\"text-align: right;\">\n",
       "      <th></th>\n",
       "      <th>permno</th>\n",
       "      <th>permco</th>\n",
       "      <th>date</th>\n",
       "      <th>ret</th>\n",
       "      <th>retx</th>\n",
       "      <th>shrout</th>\n",
       "      <th>prc</th>\n",
       "    </tr>\n",
       "  </thead>\n",
       "  <tbody>\n",
       "    <tr>\n",
       "      <th>0</th>\n",
       "      <td>10000.0</td>\n",
       "      <td>7952.0</td>\n",
       "      <td>1985-12-31</td>\n",
       "      <td>NaN</td>\n",
       "      <td>NaN</td>\n",
       "      <td>NaN</td>\n",
       "      <td>NaN</td>\n",
       "    </tr>\n",
       "    <tr>\n",
       "      <th>1</th>\n",
       "      <td>10000.0</td>\n",
       "      <td>7952.0</td>\n",
       "      <td>1986-01-31</td>\n",
       "      <td>NaN</td>\n",
       "      <td>NaN</td>\n",
       "      <td>3680.0</td>\n",
       "      <td>-4.3750</td>\n",
       "    </tr>\n",
       "    <tr>\n",
       "      <th>2</th>\n",
       "      <td>10000.0</td>\n",
       "      <td>7952.0</td>\n",
       "      <td>1986-02-28</td>\n",
       "      <td>-0.257143</td>\n",
       "      <td>-0.257143</td>\n",
       "      <td>3680.0</td>\n",
       "      <td>-3.2500</td>\n",
       "    </tr>\n",
       "    <tr>\n",
       "      <th>3</th>\n",
       "      <td>10000.0</td>\n",
       "      <td>7952.0</td>\n",
       "      <td>1986-03-31</td>\n",
       "      <td>0.365385</td>\n",
       "      <td>0.365385</td>\n",
       "      <td>3680.0</td>\n",
       "      <td>-4.4375</td>\n",
       "    </tr>\n",
       "    <tr>\n",
       "      <th>4</th>\n",
       "      <td>10000.0</td>\n",
       "      <td>7952.0</td>\n",
       "      <td>1986-04-30</td>\n",
       "      <td>-0.098592</td>\n",
       "      <td>-0.098592</td>\n",
       "      <td>3793.0</td>\n",
       "      <td>-4.0000</td>\n",
       "    </tr>\n",
       "  </tbody>\n",
       "</table>\n",
       "</div>"
      ],
      "text/plain": [
       "    permno  permco        date       ret      retx  shrout     prc\n",
       "0  10000.0  7952.0  1985-12-31       NaN       NaN     NaN     NaN\n",
       "1  10000.0  7952.0  1986-01-31       NaN       NaN  3680.0 -4.3750\n",
       "2  10000.0  7952.0  1986-02-28 -0.257143 -0.257143  3680.0 -3.2500\n",
       "3  10000.0  7952.0  1986-03-31  0.365385  0.365385  3680.0 -4.4375\n",
       "4  10000.0  7952.0  1986-04-30 -0.098592 -0.098592  3793.0 -4.0000"
      ]
     },
     "execution_count": 5,
     "metadata": {},
     "output_type": "execute_result"
    }
   ],
   "source": [
    "crsp_m = pd.read_csv('qcrspmsf_raw.csv.gz', compression='gzip')\n",
    "\n",
    "crsp_m = crsp_m[['permno', 'permco', 'date', 'ret', 'retx', 'shrout', 'prc']]\n",
    "\n",
    "crsp_m.head()"
   ]
  },
  {
   "cell_type": "markdown",
   "metadata": {},
   "source": [
    "#### CRSP Monthly Stock Event - Delisting"
   ]
  },
  {
   "cell_type": "code",
   "execution_count": 6,
   "metadata": {},
   "outputs": [
    {
     "data": {
      "text/html": [
       "<div>\n",
       "<style scoped>\n",
       "    .dataframe tbody tr th:only-of-type {\n",
       "        vertical-align: middle;\n",
       "    }\n",
       "\n",
       "    .dataframe tbody tr th {\n",
       "        vertical-align: top;\n",
       "    }\n",
       "\n",
       "    .dataframe thead th {\n",
       "        text-align: right;\n",
       "    }\n",
       "</style>\n",
       "<table border=\"1\" class=\"dataframe\">\n",
       "  <thead>\n",
       "    <tr style=\"text-align: right;\">\n",
       "      <th></th>\n",
       "      <th>permno</th>\n",
       "      <th>shrcd</th>\n",
       "      <th>exchcd</th>\n",
       "      <th>namedt</th>\n",
       "      <th>nameendt</th>\n",
       "    </tr>\n",
       "  </thead>\n",
       "  <tbody>\n",
       "    <tr>\n",
       "      <th>0</th>\n",
       "      <td>10000.0</td>\n",
       "      <td>10.0</td>\n",
       "      <td>3.0</td>\n",
       "      <td>1986-01-07</td>\n",
       "      <td>1986-12-03</td>\n",
       "    </tr>\n",
       "    <tr>\n",
       "      <th>1</th>\n",
       "      <td>10000.0</td>\n",
       "      <td>10.0</td>\n",
       "      <td>3.0</td>\n",
       "      <td>1986-12-04</td>\n",
       "      <td>1987-03-09</td>\n",
       "    </tr>\n",
       "    <tr>\n",
       "      <th>2</th>\n",
       "      <td>10000.0</td>\n",
       "      <td>10.0</td>\n",
       "      <td>3.0</td>\n",
       "      <td>1987-03-10</td>\n",
       "      <td>1987-06-11</td>\n",
       "    </tr>\n",
       "    <tr>\n",
       "      <th>3</th>\n",
       "      <td>10001.0</td>\n",
       "      <td>11.0</td>\n",
       "      <td>3.0</td>\n",
       "      <td>1986-01-09</td>\n",
       "      <td>1993-11-21</td>\n",
       "    </tr>\n",
       "    <tr>\n",
       "      <th>4</th>\n",
       "      <td>10001.0</td>\n",
       "      <td>11.0</td>\n",
       "      <td>3.0</td>\n",
       "      <td>1993-11-22</td>\n",
       "      <td>2004-06-09</td>\n",
       "    </tr>\n",
       "  </tbody>\n",
       "</table>\n",
       "</div>"
      ],
      "text/plain": [
       "    permno  shrcd  exchcd      namedt    nameendt\n",
       "0  10000.0   10.0     3.0  1986-01-07  1986-12-03\n",
       "1  10000.0   10.0     3.0  1986-12-04  1987-03-09\n",
       "2  10000.0   10.0     3.0  1987-03-10  1987-06-11\n",
       "3  10001.0   11.0     3.0  1986-01-09  1993-11-21\n",
       "4  10001.0   11.0     3.0  1993-11-22  2004-06-09"
      ]
     },
     "execution_count": 6,
     "metadata": {},
     "output_type": "execute_result"
    }
   ],
   "source": [
    "qcrspmse_raw = pd.read_csv('qcrspmse_raw.csv.gz', compression='gzip')\n",
    "\n",
    "qcrspmse_raw = qcrspmse_raw[['permno', 'shrcd', 'exchcd', 'namedt', 'nameendt']]\n",
    "\n",
    "qcrspmse_raw = qcrspmse_raw[qcrspmse_raw['exchcd'].isin([1, 2, 3])]\n",
    "qcrspmse_raw = qcrspmse_raw[qcrspmse_raw['shrcd'].isin([10, 11])]\n",
    "\n",
    "qcrspmse_raw.head()"
   ]
  },
  {
   "cell_type": "markdown",
   "metadata": {},
   "source": [
    "##### Join monthly stock data with name history"
   ]
  },
  {
   "cell_type": "code",
   "execution_count": 7,
   "metadata": {},
   "outputs": [
    {
     "data": {
      "text/html": [
       "<div>\n",
       "<style scoped>\n",
       "    .dataframe tbody tr th:only-of-type {\n",
       "        vertical-align: middle;\n",
       "    }\n",
       "\n",
       "    .dataframe tbody tr th {\n",
       "        vertical-align: top;\n",
       "    }\n",
       "\n",
       "    .dataframe thead th {\n",
       "        text-align: right;\n",
       "    }\n",
       "</style>\n",
       "<table border=\"1\" class=\"dataframe\">\n",
       "  <thead>\n",
       "    <tr style=\"text-align: right;\">\n",
       "      <th></th>\n",
       "      <th>permno</th>\n",
       "      <th>permco</th>\n",
       "      <th>date</th>\n",
       "      <th>ret</th>\n",
       "      <th>retx</th>\n",
       "      <th>shrout</th>\n",
       "      <th>prc</th>\n",
       "      <th>shrcd</th>\n",
       "      <th>exchcd</th>\n",
       "      <th>namedt</th>\n",
       "      <th>nameendt</th>\n",
       "    </tr>\n",
       "  </thead>\n",
       "  <tbody>\n",
       "    <tr>\n",
       "      <th>3</th>\n",
       "      <td>10000</td>\n",
       "      <td>7952</td>\n",
       "      <td>1986-01-31</td>\n",
       "      <td>NaN</td>\n",
       "      <td>NaN</td>\n",
       "      <td>3680.0</td>\n",
       "      <td>-4.375000</td>\n",
       "      <td>10</td>\n",
       "      <td>3</td>\n",
       "      <td>1986-01-07</td>\n",
       "      <td>1986-12-03</td>\n",
       "    </tr>\n",
       "    <tr>\n",
       "      <th>6</th>\n",
       "      <td>10000</td>\n",
       "      <td>7952</td>\n",
       "      <td>1986-02-28</td>\n",
       "      <td>-0.257143</td>\n",
       "      <td>-0.257143</td>\n",
       "      <td>3680.0</td>\n",
       "      <td>-3.250000</td>\n",
       "      <td>10</td>\n",
       "      <td>3</td>\n",
       "      <td>1986-01-07</td>\n",
       "      <td>1986-12-03</td>\n",
       "    </tr>\n",
       "    <tr>\n",
       "      <th>9</th>\n",
       "      <td>10000</td>\n",
       "      <td>7952</td>\n",
       "      <td>1986-03-31</td>\n",
       "      <td>0.365385</td>\n",
       "      <td>0.365385</td>\n",
       "      <td>3680.0</td>\n",
       "      <td>-4.437500</td>\n",
       "      <td>10</td>\n",
       "      <td>3</td>\n",
       "      <td>1986-01-07</td>\n",
       "      <td>1986-12-03</td>\n",
       "    </tr>\n",
       "    <tr>\n",
       "      <th>12</th>\n",
       "      <td>10000</td>\n",
       "      <td>7952</td>\n",
       "      <td>1986-04-30</td>\n",
       "      <td>-0.098592</td>\n",
       "      <td>-0.098592</td>\n",
       "      <td>3793.0</td>\n",
       "      <td>-4.000000</td>\n",
       "      <td>10</td>\n",
       "      <td>3</td>\n",
       "      <td>1986-01-07</td>\n",
       "      <td>1986-12-03</td>\n",
       "    </tr>\n",
       "    <tr>\n",
       "      <th>15</th>\n",
       "      <td>10000</td>\n",
       "      <td>7952</td>\n",
       "      <td>1986-05-30</td>\n",
       "      <td>-0.222656</td>\n",
       "      <td>-0.222656</td>\n",
       "      <td>3793.0</td>\n",
       "      <td>-3.109375</td>\n",
       "      <td>10</td>\n",
       "      <td>3</td>\n",
       "      <td>1986-01-07</td>\n",
       "      <td>1986-12-03</td>\n",
       "    </tr>\n",
       "  </tbody>\n",
       "</table>\n",
       "</div>"
      ],
      "text/plain": [
       "    permno  permco        date       ret      retx  shrout       prc  shrcd  \\\n",
       "3    10000    7952  1986-01-31       NaN       NaN  3680.0 -4.375000     10   \n",
       "6    10000    7952  1986-02-28 -0.257143 -0.257143  3680.0 -3.250000     10   \n",
       "9    10000    7952  1986-03-31  0.365385  0.365385  3680.0 -4.437500     10   \n",
       "12   10000    7952  1986-04-30 -0.098592 -0.098592  3793.0 -4.000000     10   \n",
       "15   10000    7952  1986-05-30 -0.222656 -0.222656  3793.0 -3.109375     10   \n",
       "\n",
       "    exchcd      namedt    nameendt  \n",
       "3        3  1986-01-07  1986-12-03  \n",
       "6        3  1986-01-07  1986-12-03  \n",
       "9        3  1986-01-07  1986-12-03  \n",
       "12       3  1986-01-07  1986-12-03  \n",
       "15       3  1986-01-07  1986-12-03  "
      ]
     },
     "execution_count": 7,
     "metadata": {},
     "output_type": "execute_result"
    }
   ],
   "source": [
    "crsp_m = crsp_m.merge(qcrspmse_raw, on='permno', how='left')\n",
    "\n",
    "crsp_m = crsp_m[(crsp_m.namedt <= crsp_m.date) & (crsp_m.date <= crsp_m.nameendt)]\n",
    "\n",
    "crsp_m[['permco','permno','shrcd','exchcd']] = crsp_m[['permco','permno','shrcd','exchcd']].astype(int)\n",
    "\n",
    "crsp_m.head()"
   ]
  },
  {
   "cell_type": "markdown",
   "metadata": {},
   "source": [
    "#### CRSP Monthly Stock Event - Delisting"
   ]
  },
  {
   "cell_type": "code",
   "execution_count": 8,
   "metadata": {},
   "outputs": [
    {
     "name": "stderr",
     "output_type": "stream",
     "text": [
      "/Users/natejensen/opt/anaconda3/lib/python3.8/site-packages/pandas/core/frame.py:3607: SettingWithCopyWarning: \n",
      "A value is trying to be set on a copy of a slice from a DataFrame.\n",
      "Try using .loc[row_indexer,col_indexer] = value instead\n",
      "\n",
      "See the caveats in the documentation: https://pandas.pydata.org/pandas-docs/stable/user_guide/indexing.html#returning-a-view-versus-a-copy\n",
      "  self._set_item(key, value)\n"
     ]
    },
    {
     "data": {
      "text/html": [
       "<div>\n",
       "<style scoped>\n",
       "    .dataframe tbody tr th:only-of-type {\n",
       "        vertical-align: middle;\n",
       "    }\n",
       "\n",
       "    .dataframe tbody tr th {\n",
       "        vertical-align: top;\n",
       "    }\n",
       "\n",
       "    .dataframe thead th {\n",
       "        text-align: right;\n",
       "    }\n",
       "</style>\n",
       "<table border=\"1\" class=\"dataframe\">\n",
       "  <thead>\n",
       "    <tr style=\"text-align: right;\">\n",
       "      <th></th>\n",
       "      <th>permno</th>\n",
       "      <th>dlret</th>\n",
       "      <th>dlstdt</th>\n",
       "      <th>date</th>\n",
       "    </tr>\n",
       "  </thead>\n",
       "  <tbody>\n",
       "    <tr>\n",
       "      <th>0</th>\n",
       "      <td>10000</td>\n",
       "      <td>0.000000</td>\n",
       "      <td>1987-06-11</td>\n",
       "      <td>1987-06-11</td>\n",
       "    </tr>\n",
       "    <tr>\n",
       "      <th>1</th>\n",
       "      <td>10001</td>\n",
       "      <td>0.011583</td>\n",
       "      <td>2017-08-03</td>\n",
       "      <td>2017-08-03</td>\n",
       "    </tr>\n",
       "    <tr>\n",
       "      <th>2</th>\n",
       "      <td>10002</td>\n",
       "      <td>0.046007</td>\n",
       "      <td>2013-02-15</td>\n",
       "      <td>2013-02-15</td>\n",
       "    </tr>\n",
       "    <tr>\n",
       "      <th>3</th>\n",
       "      <td>10003</td>\n",
       "      <td>0.013730</td>\n",
       "      <td>1995-12-15</td>\n",
       "      <td>1995-12-15</td>\n",
       "    </tr>\n",
       "    <tr>\n",
       "      <th>4</th>\n",
       "      <td>10005</td>\n",
       "      <td>0.125000</td>\n",
       "      <td>1991-07-11</td>\n",
       "      <td>1991-07-11</td>\n",
       "    </tr>\n",
       "  </tbody>\n",
       "</table>\n",
       "</div>"
      ],
      "text/plain": [
       "   permno     dlret      dlstdt       date\n",
       "0   10000  0.000000  1987-06-11 1987-06-11\n",
       "1   10001  0.011583  2017-08-03 2017-08-03\n",
       "2   10002  0.046007  2013-02-15 2013-02-15\n",
       "3   10003  0.013730  1995-12-15 1995-12-15\n",
       "4   10005  0.125000  1991-07-11 1991-07-11"
      ]
     },
     "execution_count": 8,
     "metadata": {},
     "output_type": "execute_result"
    }
   ],
   "source": [
    "qdlret_raw = pd.read_csv('qdlret_raw.csv.gz', compression='gzip')\n",
    "\n",
    "dlret = qdlret_raw[['permno', 'dlret', 'dlstdt']]\n",
    "\n",
    "dlret[['permno']] = dlret[['permno']].astype(int)\n",
    "\n",
    "dlret['date'] = pd.to_datetime(dlret['dlstdt'])\n",
    "\n",
    "dlret.head()"
   ]
  },
  {
   "cell_type": "markdown",
   "metadata": {},
   "source": [
    "##### Format Dates"
   ]
  },
  {
   "cell_type": "code",
   "execution_count": 9,
   "metadata": {},
   "outputs": [
    {
     "name": "stderr",
     "output_type": "stream",
     "text": [
      "/Users/natejensen/opt/anaconda3/lib/python3.8/site-packages/pandas/core/frame.py:3607: SettingWithCopyWarning: \n",
      "A value is trying to be set on a copy of a slice from a DataFrame.\n",
      "Try using .loc[row_indexer,col_indexer] = value instead\n",
      "\n",
      "See the caveats in the documentation: https://pandas.pydata.org/pandas-docs/stable/user_guide/indexing.html#returning-a-view-versus-a-copy\n",
      "  self._set_item(key, value)\n",
      "/Users/natejensen/opt/anaconda3/lib/python3.8/site-packages/pandas/core/frame.py:4901: SettingWithCopyWarning: \n",
      "A value is trying to be set on a copy of a slice from a DataFrame\n",
      "\n",
      "See the caveats in the documentation: https://pandas.pydata.org/pandas-docs/stable/user_guide/indexing.html#returning-a-view-versus-a-copy\n",
      "  return super().drop(\n"
     ]
    }
   ],
   "source": [
    "# Set all timestamps to common month end\n",
    "crsp_m = util.monthEnd(crsp_m)\n",
    "dlret = util.monthEnd(dlret)"
   ]
  },
  {
   "cell_type": "markdown",
   "metadata": {},
   "source": [
    "### Combine Returns"
   ]
  },
  {
   "cell_type": "code",
   "execution_count": 10,
   "metadata": {},
   "outputs": [],
   "source": [
    "crsp = util.comebineRet(crsp_m,dlret)"
   ]
  },
  {
   "cell_type": "markdown",
   "metadata": {},
   "source": [
    "### Prune Stocks"
   ]
  },
  {
   "cell_type": "code",
   "execution_count": 11,
   "metadata": {},
   "outputs": [],
   "source": [
    "# Prune stocks, map all equity to largest permno\n",
    "crsp=util.maxCap(crsp)"
   ]
  },
  {
   "cell_type": "code",
   "execution_count": 12,
   "metadata": {},
   "outputs": [
    {
     "data": {
      "text/html": [
       "<div>\n",
       "<style scoped>\n",
       "    .dataframe tbody tr th:only-of-type {\n",
       "        vertical-align: middle;\n",
       "    }\n",
       "\n",
       "    .dataframe tbody tr th {\n",
       "        vertical-align: top;\n",
       "    }\n",
       "\n",
       "    .dataframe thead th {\n",
       "        text-align: right;\n",
       "    }\n",
       "</style>\n",
       "<table border=\"1\" class=\"dataframe\">\n",
       "  <thead>\n",
       "    <tr style=\"text-align: right;\">\n",
       "      <th></th>\n",
       "      <th>permno</th>\n",
       "      <th>permco</th>\n",
       "      <th>ret</th>\n",
       "      <th>retx</th>\n",
       "      <th>shrcd</th>\n",
       "      <th>exchcd</th>\n",
       "      <th>namedt</th>\n",
       "      <th>nameendt</th>\n",
       "      <th>jdate</th>\n",
       "      <th>retadj</th>\n",
       "      <th>retxadj</th>\n",
       "      <th>me</th>\n",
       "    </tr>\n",
       "  </thead>\n",
       "  <tbody>\n",
       "    <tr>\n",
       "      <th>3130349</th>\n",
       "      <td>10001</td>\n",
       "      <td>7953</td>\n",
       "      <td>-0.118436</td>\n",
       "      <td>-0.122370</td>\n",
       "      <td>11</td>\n",
       "      <td>2</td>\n",
       "      <td>2010-07-09</td>\n",
       "      <td>2017-08-03</td>\n",
       "      <td>2010-11-30</td>\n",
       "      <td>-0.118436</td>\n",
       "      <td>-0.122370</td>\n",
       "      <td>78653.359701</td>\n",
       "    </tr>\n",
       "    <tr>\n",
       "      <th>3138140</th>\n",
       "      <td>10001</td>\n",
       "      <td>7953</td>\n",
       "      <td>0.028992</td>\n",
       "      <td>0.024715</td>\n",
       "      <td>11</td>\n",
       "      <td>2</td>\n",
       "      <td>2010-07-09</td>\n",
       "      <td>2017-08-03</td>\n",
       "      <td>2011-01-31</td>\n",
       "      <td>0.028992</td>\n",
       "      <td>0.024715</td>\n",
       "      <td>84450.517908</td>\n",
       "    </tr>\n",
       "    <tr>\n",
       "      <th>3142018</th>\n",
       "      <td>10001</td>\n",
       "      <td>7953</td>\n",
       "      <td>0.022727</td>\n",
       "      <td>0.018553</td>\n",
       "      <td>11</td>\n",
       "      <td>2</td>\n",
       "      <td>2010-07-09</td>\n",
       "      <td>2017-08-03</td>\n",
       "      <td>2011-02-28</td>\n",
       "      <td>0.022727</td>\n",
       "      <td>0.018553</td>\n",
       "      <td>86017.316414</td>\n",
       "    </tr>\n",
       "    <tr>\n",
       "      <th>3145894</th>\n",
       "      <td>10001</td>\n",
       "      <td>7953</td>\n",
       "      <td>0.072404</td>\n",
       "      <td>0.068306</td>\n",
       "      <td>11</td>\n",
       "      <td>2</td>\n",
       "      <td>2010-07-09</td>\n",
       "      <td>2017-08-03</td>\n",
       "      <td>2011-03-31</td>\n",
       "      <td>0.072404</td>\n",
       "      <td>0.068306</td>\n",
       "      <td>91892.816414</td>\n",
       "    </tr>\n",
       "    <tr>\n",
       "      <th>3149754</th>\n",
       "      <td>10001</td>\n",
       "      <td>7953</td>\n",
       "      <td>-0.038789</td>\n",
       "      <td>-0.042626</td>\n",
       "      <td>11</td>\n",
       "      <td>2</td>\n",
       "      <td>2010-07-09</td>\n",
       "      <td>2017-08-03</td>\n",
       "      <td>2011-04-30</td>\n",
       "      <td>-0.038789</td>\n",
       "      <td>-0.042626</td>\n",
       "      <td>91535.726269</td>\n",
       "    </tr>\n",
       "  </tbody>\n",
       "</table>\n",
       "</div>"
      ],
      "text/plain": [
       "         permno  permco       ret      retx  shrcd  exchcd      namedt  \\\n",
       "3130349   10001    7953 -0.118436 -0.122370     11       2  2010-07-09   \n",
       "3138140   10001    7953  0.028992  0.024715     11       2  2010-07-09   \n",
       "3142018   10001    7953  0.022727  0.018553     11       2  2010-07-09   \n",
       "3145894   10001    7953  0.072404  0.068306     11       2  2010-07-09   \n",
       "3149754   10001    7953 -0.038789 -0.042626     11       2  2010-07-09   \n",
       "\n",
       "           nameendt      jdate    retadj   retxadj            me  \n",
       "3130349  2017-08-03 2010-11-30 -0.118436 -0.122370  78653.359701  \n",
       "3138140  2017-08-03 2011-01-31  0.028992  0.024715  84450.517908  \n",
       "3142018  2017-08-03 2011-02-28  0.022727  0.018553  86017.316414  \n",
       "3145894  2017-08-03 2011-03-31  0.072404  0.068306  91892.816414  \n",
       "3149754  2017-08-03 2011-04-30 -0.038789 -0.042626  91535.726269  "
      ]
     },
     "execution_count": 12,
     "metadata": {},
     "output_type": "execute_result"
    }
   ],
   "source": [
    "# Only keeping top X stocks by market cap per jdate, so a stock could be missing from long time period ago\n",
    "crsp=util.topX(crsp,'me',numstocks)\n",
    "\n",
    "crsp.head()"
   ]
  },
  {
   "cell_type": "code",
   "execution_count": 13,
   "metadata": {},
   "outputs": [],
   "source": [
    "# EXPORT MONTHLY PERMNO LIST FOR DAILY CALC HERE\n",
    "# will reduce previous list to AT MOST 3k stocks per year effectively,\n",
    "# based on the 3k that exist in December of that year\n",
    "# if stocks did not exist jan of that year, then jan should have fewer \n",
    "# than 3k stocks.\n",
    "crsp['month']=crsp['jdate'].dt.month\n",
    "permlist=crsp[crsp['month']==12][['permno','jdate']].drop_duplicates()\n",
    "\n",
    "permlist.to_csv(\"qpermlist.csv.gz\", \n",
    "           index=False, \n",
    "           compression=\"gzip\")\n",
    "\n",
    "# Dump pruned crps that matches permlist\n",
    "crsp.to_csv(\"qlocalcrsp_matched.csv.gz\", \n",
    "           index=False, \n",
    "           compression=\"gzip\")"
   ]
  },
  {
   "cell_type": "markdown",
   "metadata": {},
   "source": [
    "Notes:\n",
    "* Filter to only keep stocks with December return\n",
    "* In order to compare vs prior year\n",
    "* Delisting events is to check for existence"
   ]
  },
  {
   "cell_type": "code",
   "execution_count": null,
   "metadata": {},
   "outputs": [],
   "source": []
  }
 ],
 "metadata": {
  "kernelspec": {
   "display_name": "Python 3",
   "language": "python",
   "name": "python3"
  },
  "language_info": {
   "codemirror_mode": {
    "name": "ipython",
    "version": 3
   },
   "file_extension": ".py",
   "mimetype": "text/x-python",
   "name": "python",
   "nbconvert_exporter": "python",
   "pygments_lexer": "ipython3",
   "version": "3.8.5"
  }
 },
 "nbformat": 4,
 "nbformat_minor": 2
}
