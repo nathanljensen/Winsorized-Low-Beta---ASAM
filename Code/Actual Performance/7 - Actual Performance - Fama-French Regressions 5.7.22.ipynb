{
 "cells": [
  {
   "cell_type": "markdown",
   "metadata": {},
   "source": [
    "## Actual Performance\n",
    "### Fama-French Regressions\n",
    "### Import Packages"
   ]
  },
  {
   "cell_type": "markdown",
   "metadata": {},
   "source": [
    "Try different factor models (on the RHS), at least:\n",
    "* a 0-factor (relative to risk-free rate),\n",
    "* a 1-factor (relative to CAPM),\n",
    "* a more general factor portfolio.\n",
    "\n",
    "Our four-factor benchmark:\n",
    "* VOO (S&P500) - RF, where RF is not yield but return!\n",
    "* VTV (Value) - VUG (Growth) aka HML\n",
    "* VIG (Dividends) - VOO (S&P500) aka CMA\n",
    "* VV (Large-Cap) - VBR (Small-Cap) aka SMB"
   ]
  },
  {
   "cell_type": "code",
   "execution_count": 1,
   "metadata": {},
   "outputs": [],
   "source": [
    "import pandas as pd\n",
    "import numpy as np\n",
    "import datetime as dt\n",
    "import psycopg2 \n",
    "import matplotlib.pyplot as plt\n",
    "from dateutil.relativedelta import *\n",
    "from pandas.tseries.offsets import *\n",
    "from scipy import stats\n",
    "import statsmodels.api as sm\n",
    "import statistics\n",
    "import sys\n",
    "sys.path.insert(0, \"../\")\n",
    "import util\n",
    "from importlib import reload\n",
    "util=reload(util)"
   ]
  },
  {
   "cell_type": "code",
   "execution_count": 2,
   "metadata": {},
   "outputs": [],
   "source": [
    "#Set a start date\n",
    "StartDate='01/10/2022'\n",
    "EndDate='05/06/2022'"
   ]
  },
  {
   "cell_type": "markdown",
   "metadata": {},
   "source": [
    "## Neglected Beta\n",
    "### Import Data\n",
    "#### Daily Returns of Portfolio"
   ]
  },
  {
   "cell_type": "code",
   "execution_count": 3,
   "metadata": {},
   "outputs": [
    {
     "data": {
      "text/html": [
       "<div>\n",
       "<style scoped>\n",
       "    .dataframe tbody tr th:only-of-type {\n",
       "        vertical-align: middle;\n",
       "    }\n",
       "\n",
       "    .dataframe tbody tr th {\n",
       "        vertical-align: top;\n",
       "    }\n",
       "\n",
       "    .dataframe thead th {\n",
       "        text-align: right;\n",
       "    }\n",
       "</style>\n",
       "<table border=\"1\" class=\"dataframe\">\n",
       "  <thead>\n",
       "    <tr style=\"text-align: right;\">\n",
       "      <th></th>\n",
       "      <th>Date</th>\n",
       "      <th>Daily_Returns</th>\n",
       "      <th>Russell_2000</th>\n",
       "      <th>SP_500</th>\n",
       "      <th>daily_returns</th>\n",
       "      <th>russell_2000</th>\n",
       "      <th>sp_500</th>\n",
       "      <th>date</th>\n",
       "    </tr>\n",
       "  </thead>\n",
       "  <tbody>\n",
       "    <tr>\n",
       "      <th>0</th>\n",
       "      <td>1/10/22</td>\n",
       "      <td>0.00</td>\n",
       "      <td>0.00</td>\n",
       "      <td>0.00</td>\n",
       "      <td>0.0000</td>\n",
       "      <td>0.0000</td>\n",
       "      <td>0.0000</td>\n",
       "      <td>2022-01-10</td>\n",
       "    </tr>\n",
       "    <tr>\n",
       "      <th>1</th>\n",
       "      <td>1/11/22</td>\n",
       "      <td>1.26</td>\n",
       "      <td>0.00</td>\n",
       "      <td>0.92</td>\n",
       "      <td>0.0126</td>\n",
       "      <td>0.0000</td>\n",
       "      <td>0.0092</td>\n",
       "      <td>2022-01-11</td>\n",
       "    </tr>\n",
       "    <tr>\n",
       "      <th>2</th>\n",
       "      <td>1/12/22</td>\n",
       "      <td>-0.37</td>\n",
       "      <td>-0.82</td>\n",
       "      <td>0.28</td>\n",
       "      <td>-0.0037</td>\n",
       "      <td>-0.0082</td>\n",
       "      <td>0.0028</td>\n",
       "      <td>2022-01-12</td>\n",
       "    </tr>\n",
       "    <tr>\n",
       "      <th>3</th>\n",
       "      <td>1/13/22</td>\n",
       "      <td>-2.13</td>\n",
       "      <td>-0.76</td>\n",
       "      <td>-1.42</td>\n",
       "      <td>-0.0213</td>\n",
       "      <td>-0.0076</td>\n",
       "      <td>-0.0142</td>\n",
       "      <td>2022-01-13</td>\n",
       "    </tr>\n",
       "    <tr>\n",
       "      <th>4</th>\n",
       "      <td>1/14/22</td>\n",
       "      <td>0.16</td>\n",
       "      <td>0.14</td>\n",
       "      <td>0.08</td>\n",
       "      <td>0.0016</td>\n",
       "      <td>0.0014</td>\n",
       "      <td>0.0008</td>\n",
       "      <td>2022-01-14</td>\n",
       "    </tr>\n",
       "  </tbody>\n",
       "</table>\n",
       "</div>"
      ],
      "text/plain": [
       "      Date Daily_Returns Russell_2000 SP_500  daily_returns  russell_2000  \\\n",
       "0  1/10/22          0.00         0.00   0.00         0.0000        0.0000   \n",
       "1  1/11/22          1.26         0.00   0.92         0.0126        0.0000   \n",
       "2  1/12/22         -0.37        -0.82   0.28        -0.0037       -0.0082   \n",
       "3  1/13/22         -2.13        -0.76  -1.42        -0.0213       -0.0076   \n",
       "4  1/14/22          0.16         0.14   0.08         0.0016        0.0014   \n",
       "\n",
       "   sp_500       date  \n",
       "0  0.0000 2022-01-10  \n",
       "1  0.0092 2022-01-11  \n",
       "2  0.0028 2022-01-12  \n",
       "3 -0.0142 2022-01-13  \n",
       "4  0.0008 2022-01-14  "
      ]
     },
     "execution_count": 3,
     "metadata": {},
     "output_type": "execute_result"
    }
   ],
   "source": [
    "data = pd.read_csv('Neglected_Beta_Daily_Returns_5.16.22.csv', usecols=lambda x: x.lower())\n",
    "\n",
    "# Rename columns\n",
    "data.columns = ['Date','Daily_Returns','Russell_2000','SP_500']\n",
    "\n",
    "# Remove % signs\n",
    "data['Daily_Returns'] = data['Daily_Returns'].str.replace('%', '')\n",
    "data['Russell_2000'] = data['Russell_2000'].str.replace('%', '')\n",
    "data['SP_500'] = data['SP_500'].str.replace('%', '')\n",
    "\n",
    "# Format returns\n",
    "data['daily_returns'] = data['Daily_Returns'].astype(float)\n",
    "data['russell_2000'] = data['Russell_2000'].astype(float)\n",
    "data['sp_500'] = data['SP_500'].astype(float)\n",
    "\n",
    "# Convert to % to numbers\n",
    "data['daily_returns'] = data['daily_returns']/100\n",
    "data['russell_2000'] = data['russell_2000']/100\n",
    "data['sp_500'] = data['sp_500']/100\n",
    "\n",
    "# Format Date\n",
    "data['date'] = pd.to_datetime(data['Date'], format='%m/%d/%y')\n",
    "\n",
    "data.head()"
   ]
  },
  {
   "cell_type": "code",
   "execution_count": 4,
   "metadata": {},
   "outputs": [
    {
     "data": {
      "text/html": [
       "<div>\n",
       "<style scoped>\n",
       "    .dataframe tbody tr th:only-of-type {\n",
       "        vertical-align: middle;\n",
       "    }\n",
       "\n",
       "    .dataframe tbody tr th {\n",
       "        vertical-align: top;\n",
       "    }\n",
       "\n",
       "    .dataframe thead th {\n",
       "        text-align: right;\n",
       "    }\n",
       "</style>\n",
       "<table border=\"1\" class=\"dataframe\">\n",
       "  <thead>\n",
       "    <tr style=\"text-align: right;\">\n",
       "      <th></th>\n",
       "      <th>daily_returns</th>\n",
       "      <th>date</th>\n",
       "    </tr>\n",
       "  </thead>\n",
       "  <tbody>\n",
       "    <tr>\n",
       "      <th>0</th>\n",
       "      <td>0.0000</td>\n",
       "      <td>2022-01-10</td>\n",
       "    </tr>\n",
       "    <tr>\n",
       "      <th>1</th>\n",
       "      <td>0.0126</td>\n",
       "      <td>2022-01-11</td>\n",
       "    </tr>\n",
       "    <tr>\n",
       "      <th>2</th>\n",
       "      <td>-0.0037</td>\n",
       "      <td>2022-01-12</td>\n",
       "    </tr>\n",
       "    <tr>\n",
       "      <th>3</th>\n",
       "      <td>-0.0213</td>\n",
       "      <td>2022-01-13</td>\n",
       "    </tr>\n",
       "    <tr>\n",
       "      <th>4</th>\n",
       "      <td>0.0016</td>\n",
       "      <td>2022-01-14</td>\n",
       "    </tr>\n",
       "  </tbody>\n",
       "</table>\n",
       "</div>"
      ],
      "text/plain": [
       "   daily_returns       date\n",
       "0         0.0000 2022-01-10\n",
       "1         0.0126 2022-01-11\n",
       "2        -0.0037 2022-01-12\n",
       "3        -0.0213 2022-01-13\n",
       "4         0.0016 2022-01-14"
      ]
     },
     "execution_count": 4,
     "metadata": {},
     "output_type": "execute_result"
    }
   ],
   "source": [
    "# Drop extra variables\n",
    "data.drop(['Date'], axis = 1, inplace=True)\n",
    "data.drop(['Daily_Returns'], axis = 1, inplace=True)\n",
    "data.drop(['Russell_2000'], axis = 1, inplace=True)\n",
    "data.drop(['SP_500'], axis = 1, inplace=True)\n",
    "data.drop(['russell_2000'], axis = 1, inplace=True)\n",
    "data.drop(['sp_500'], axis = 1, inplace=True)\n",
    "\n",
    "data.head()"
   ]
  },
  {
   "cell_type": "markdown",
   "metadata": {},
   "source": [
    "## Vanguard Factors\n",
    "### Import Data"
   ]
  },
  {
   "cell_type": "code",
   "execution_count": 5,
   "metadata": {},
   "outputs": [
    {
     "data": {
      "text/html": [
       "<div>\n",
       "<style scoped>\n",
       "    .dataframe tbody tr th:only-of-type {\n",
       "        vertical-align: middle;\n",
       "    }\n",
       "\n",
       "    .dataframe tbody tr th {\n",
       "        vertical-align: top;\n",
       "    }\n",
       "\n",
       "    .dataframe thead th {\n",
       "        text-align: right;\n",
       "    }\n",
       "</style>\n",
       "<table border=\"1\" class=\"dataframe\">\n",
       "  <thead>\n",
       "    <tr style=\"text-align: right;\">\n",
       "      <th></th>\n",
       "      <th>Date</th>\n",
       "      <th>Adj Close</th>\n",
       "      <th>VOO_Daily_Returns</th>\n",
       "    </tr>\n",
       "  </thead>\n",
       "  <tbody>\n",
       "    <tr>\n",
       "      <th>0</th>\n",
       "      <td>1/3/22</td>\n",
       "      <td>437.775574</td>\n",
       "      <td>NaN</td>\n",
       "    </tr>\n",
       "    <tr>\n",
       "      <th>1</th>\n",
       "      <td>1/4/22</td>\n",
       "      <td>437.596191</td>\n",
       "      <td>-0.000410</td>\n",
       "    </tr>\n",
       "    <tr>\n",
       "      <th>2</th>\n",
       "      <td>1/5/22</td>\n",
       "      <td>429.214417</td>\n",
       "      <td>-0.019154</td>\n",
       "    </tr>\n",
       "    <tr>\n",
       "      <th>3</th>\n",
       "      <td>1/6/22</td>\n",
       "      <td>428.636353</td>\n",
       "      <td>-0.001347</td>\n",
       "    </tr>\n",
       "    <tr>\n",
       "      <th>4</th>\n",
       "      <td>1/7/22</td>\n",
       "      <td>427.151337</td>\n",
       "      <td>-0.003465</td>\n",
       "    </tr>\n",
       "  </tbody>\n",
       "</table>\n",
       "</div>"
      ],
      "text/plain": [
       "     Date   Adj Close  VOO_Daily_Returns\n",
       "0  1/3/22  437.775574                NaN\n",
       "1  1/4/22  437.596191          -0.000410\n",
       "2  1/5/22  429.214417          -0.019154\n",
       "3  1/6/22  428.636353          -0.001347\n",
       "4  1/7/22  427.151337          -0.003465"
      ]
     },
     "execution_count": 5,
     "metadata": {},
     "output_type": "execute_result"
    }
   ],
   "source": [
    "SHY = pd.read_csv('SHY.csv')\n",
    "VBR = pd.read_csv('VBR.csv')\n",
    "VIG = pd.read_csv('VIG.csv')\n",
    "VOO = pd.read_csv('VOO.csv')\n",
    "VTV = pd.read_csv('VTV.csv')\n",
    "VUG = pd.read_csv('VUG.csv')\n",
    "VV = pd.read_csv('VV.csv')\n",
    "\n",
    "VOO.head()"
   ]
  },
  {
   "cell_type": "code",
   "execution_count": 6,
   "metadata": {},
   "outputs": [
    {
     "data": {
      "text/html": [
       "<div>\n",
       "<style scoped>\n",
       "    .dataframe tbody tr th:only-of-type {\n",
       "        vertical-align: middle;\n",
       "    }\n",
       "\n",
       "    .dataframe tbody tr th {\n",
       "        vertical-align: top;\n",
       "    }\n",
       "\n",
       "    .dataframe thead th {\n",
       "        text-align: right;\n",
       "    }\n",
       "</style>\n",
       "<table border=\"1\" class=\"dataframe\">\n",
       "  <thead>\n",
       "    <tr style=\"text-align: right;\">\n",
       "      <th></th>\n",
       "      <th>Date</th>\n",
       "      <th>Adj Close</th>\n",
       "      <th>RF_Daily_Returns</th>\n",
       "      <th>date</th>\n",
       "    </tr>\n",
       "  </thead>\n",
       "  <tbody>\n",
       "    <tr>\n",
       "      <th>0</th>\n",
       "      <td>1/3/22</td>\n",
       "      <td>85.309433</td>\n",
       "      <td>NaN</td>\n",
       "      <td>2022-01-03</td>\n",
       "    </tr>\n",
       "    <tr>\n",
       "      <th>1</th>\n",
       "      <td>1/4/22</td>\n",
       "      <td>85.359344</td>\n",
       "      <td>0.000585</td>\n",
       "      <td>2022-01-04</td>\n",
       "    </tr>\n",
       "    <tr>\n",
       "      <th>2</th>\n",
       "      <td>1/5/22</td>\n",
       "      <td>85.249527</td>\n",
       "      <td>-0.001287</td>\n",
       "      <td>2022-01-05</td>\n",
       "    </tr>\n",
       "    <tr>\n",
       "      <th>3</th>\n",
       "      <td>1/6/22</td>\n",
       "      <td>85.179634</td>\n",
       "      <td>-0.000820</td>\n",
       "      <td>2022-01-06</td>\n",
       "    </tr>\n",
       "    <tr>\n",
       "      <th>4</th>\n",
       "      <td>1/7/22</td>\n",
       "      <td>85.159668</td>\n",
       "      <td>-0.000234</td>\n",
       "      <td>2022-01-07</td>\n",
       "    </tr>\n",
       "  </tbody>\n",
       "</table>\n",
       "</div>"
      ],
      "text/plain": [
       "     Date  Adj Close  RF_Daily_Returns       date\n",
       "0  1/3/22  85.309433               NaN 2022-01-03\n",
       "1  1/4/22  85.359344          0.000585 2022-01-04\n",
       "2  1/5/22  85.249527         -0.001287 2022-01-05\n",
       "3  1/6/22  85.179634         -0.000820 2022-01-06\n",
       "4  1/7/22  85.159668         -0.000234 2022-01-07"
      ]
     },
     "execution_count": 6,
     "metadata": {},
     "output_type": "execute_result"
    }
   ],
   "source": [
    "# Convert Date to an actual date format\n",
    "SHY['date'] = pd.to_datetime(SHY['Date'].astype(str), format='%m/%d/%y')\n",
    "VBR['date'] = pd.to_datetime(VBR['Date'].astype(str), format='%m/%d/%y')\n",
    "VIG['date'] = pd.to_datetime(VIG['Date'].astype(str), format='%m/%d/%y')\n",
    "VOO['date'] = pd.to_datetime(VOO['Date'].astype(str), format='%m/%d/%y')\n",
    "VTV['date'] = pd.to_datetime(VTV['Date'].astype(str), format='%m/%d/%y')\n",
    "VUG['date'] = pd.to_datetime(VUG['Date'].astype(str), format='%m/%d/%y')\n",
    "VV['date'] = pd.to_datetime(VV['Date'].astype(str), format='%m/%d/%y')\n",
    "\n",
    "SHY.head()"
   ]
  },
  {
   "cell_type": "code",
   "execution_count": 7,
   "metadata": {},
   "outputs": [],
   "source": [
    "# Drop extra variables\n",
    "SHY.drop(['Date'], axis = 1, inplace=True)\n",
    "VBR.drop(['Date'], axis = 1, inplace=True)\n",
    "VIG.drop(['Date'], axis = 1, inplace=True)\n",
    "VOO.drop(['Date'], axis = 1, inplace=True)\n",
    "VTV.drop(['Date'], axis = 1, inplace=True)\n",
    "VUG.drop(['Date'], axis = 1, inplace=True)\n",
    "VV.drop(['Date'], axis = 1, inplace=True)\n",
    "\n",
    "#SHY.drop(['Adj Close'], axis = 1, inplace=True)\n",
    "#VBR.drop(['Adj Close'], axis = 1, inplace=True)\n",
    "#VIG.drop(['Adj Close'], axis = 1, inplace=True)\n",
    "#VOO.drop(['Adj Close'], axis = 1, inplace=True)\n",
    "#VTV.drop(['Adj Close'], axis = 1, inplace=True)\n",
    "#VUG.drop(['Adj Close'], axis = 1, inplace=True)\n",
    "#VV.drop(['Adj Close'], axis = 1, inplace=True)"
   ]
  },
  {
   "cell_type": "code",
   "execution_count": 8,
   "metadata": {},
   "outputs": [
    {
     "data": {
      "text/html": [
       "<div>\n",
       "<style scoped>\n",
       "    .dataframe tbody tr th:only-of-type {\n",
       "        vertical-align: middle;\n",
       "    }\n",
       "\n",
       "    .dataframe tbody tr th {\n",
       "        vertical-align: top;\n",
       "    }\n",
       "\n",
       "    .dataframe thead th {\n",
       "        text-align: right;\n",
       "    }\n",
       "</style>\n",
       "<table border=\"1\" class=\"dataframe\">\n",
       "  <thead>\n",
       "    <tr style=\"text-align: right;\">\n",
       "      <th></th>\n",
       "      <th>Adj Close</th>\n",
       "      <th>RF_Daily_Returns</th>\n",
       "      <th>date</th>\n",
       "    </tr>\n",
       "  </thead>\n",
       "  <tbody>\n",
       "    <tr>\n",
       "      <th>82</th>\n",
       "      <td>82.849998</td>\n",
       "      <td>-0.000072</td>\n",
       "      <td>2022-05-02</td>\n",
       "    </tr>\n",
       "    <tr>\n",
       "      <th>83</th>\n",
       "      <td>82.809998</td>\n",
       "      <td>-0.000483</td>\n",
       "      <td>2022-05-03</td>\n",
       "    </tr>\n",
       "    <tr>\n",
       "      <th>84</th>\n",
       "      <td>83.029999</td>\n",
       "      <td>0.002657</td>\n",
       "      <td>2022-05-04</td>\n",
       "    </tr>\n",
       "    <tr>\n",
       "      <th>85</th>\n",
       "      <td>82.889999</td>\n",
       "      <td>-0.001686</td>\n",
       "      <td>2022-05-05</td>\n",
       "    </tr>\n",
       "    <tr>\n",
       "      <th>86</th>\n",
       "      <td>82.879997</td>\n",
       "      <td>-0.000121</td>\n",
       "      <td>2022-05-06</td>\n",
       "    </tr>\n",
       "  </tbody>\n",
       "</table>\n",
       "</div>"
      ],
      "text/plain": [
       "    Adj Close  RF_Daily_Returns       date\n",
       "82  82.849998         -0.000072 2022-05-02\n",
       "83  82.809998         -0.000483 2022-05-03\n",
       "84  83.029999          0.002657 2022-05-04\n",
       "85  82.889999         -0.001686 2022-05-05\n",
       "86  82.879997         -0.000121 2022-05-06"
      ]
     },
     "execution_count": 8,
     "metadata": {},
     "output_type": "execute_result"
    }
   ],
   "source": [
    "# Exclude days outside of window 1/10/2022 - 5/7/2022\n",
    "SHY = SHY[(SHY['date'] >= StartDate) & (SHY['date'] <= EndDate)]\n",
    "VBR = VBR[(VBR['date'] >= StartDate) & (VBR['date'] <= EndDate)]\n",
    "VIG = VIG[(VIG['date'] >= StartDate) & (VIG['date'] <= EndDate)]\n",
    "VOO = VOO[(VOO['date'] >= StartDate) & (VOO['date'] <= EndDate)]\n",
    "VTV = VTV[(VTV['date'] >= StartDate) & (VTV['date'] <= EndDate)]\n",
    "VUG = VUG[(VUG['date'] >= StartDate) & (VUG['date'] <= EndDate)]\n",
    "VV = VV[(VV['date'] >= StartDate) & (VV['date'] <= EndDate)]\n",
    "data = data[(data['date'] >= StartDate) & (data['date'] <= EndDate)]\n",
    "\n",
    "SHY.tail()"
   ]
  },
  {
   "cell_type": "markdown",
   "metadata": {},
   "source": [
    "## Combine Datasets"
   ]
  },
  {
   "cell_type": "code",
   "execution_count": 9,
   "metadata": {},
   "outputs": [
    {
     "name": "stderr",
     "output_type": "stream",
     "text": [
      "<ipython-input-9-25006417601c>:4: FutureWarning: Passing 'suffixes' which cause duplicate columns {'Adj Close_x'} in the result is deprecated and will raise a MergeError in a future version.\n",
      "  returnReg4 = pd.merge(returnReg3,VOO,how='inner',on=['date'])\n",
      "<ipython-input-9-25006417601c>:6: FutureWarning: Passing 'suffixes' which cause duplicate columns {'Adj Close_x'} in the result is deprecated and will raise a MergeError in a future version.\n",
      "  returnReg6 = pd.merge(returnReg5,VUG,how='inner',on=['date'])\n"
     ]
    }
   ],
   "source": [
    "returnReg1 = pd.merge(data,SHY,how='inner',on=['date'])\n",
    "returnReg2 = pd.merge(returnReg1,VBR,how='inner',on=['date'])\n",
    "returnReg3 = pd.merge(returnReg2,VIG,how='inner',on=['date'])\n",
    "returnReg4 = pd.merge(returnReg3,VOO,how='inner',on=['date'])\n",
    "returnReg5 = pd.merge(returnReg4,VTV,how='inner',on=['date'])\n",
    "returnReg6 = pd.merge(returnReg5,VUG,how='inner',on=['date'])\n",
    "returnReg = pd.merge(returnReg6,VV,how='inner',on=['date'])"
   ]
  },
  {
   "cell_type": "code",
   "execution_count": 10,
   "metadata": {},
   "outputs": [
    {
     "data": {
      "text/html": [
       "<div>\n",
       "<style scoped>\n",
       "    .dataframe tbody tr th:only-of-type {\n",
       "        vertical-align: middle;\n",
       "    }\n",
       "\n",
       "    .dataframe tbody tr th {\n",
       "        vertical-align: top;\n",
       "    }\n",
       "\n",
       "    .dataframe thead th {\n",
       "        text-align: right;\n",
       "    }\n",
       "</style>\n",
       "<table border=\"1\" class=\"dataframe\">\n",
       "  <thead>\n",
       "    <tr style=\"text-align: right;\">\n",
       "      <th></th>\n",
       "      <th>daily_returns</th>\n",
       "      <th>date</th>\n",
       "      <th>Adj Close_x</th>\n",
       "      <th>RF_Daily_Returns</th>\n",
       "      <th>Adj Close_y</th>\n",
       "      <th>VBR_Daily_Returns</th>\n",
       "      <th>Adj Close_x</th>\n",
       "      <th>VIG_Daily_Returns</th>\n",
       "      <th>Adj Close_y</th>\n",
       "      <th>VOO_Daily_Returns</th>\n",
       "      <th>Adj Close_x</th>\n",
       "      <th>VTV_Daily_Returns</th>\n",
       "      <th>Adj Close_y</th>\n",
       "      <th>VUG_Daily_Returns</th>\n",
       "      <th>Adj Close</th>\n",
       "      <th>VV_Daily_Returns</th>\n",
       "    </tr>\n",
       "  </thead>\n",
       "  <tbody>\n",
       "    <tr>\n",
       "      <th>77</th>\n",
       "      <td>0.0137</td>\n",
       "      <td>2022-05-02</td>\n",
       "      <td>82.849998</td>\n",
       "      <td>-0.000072</td>\n",
       "      <td>165.419998</td>\n",
       "      <td>0.003823</td>\n",
       "      <td>154.050003</td>\n",
       "      <td>0.001235</td>\n",
       "      <td>381.079987</td>\n",
       "      <td>0.006285</td>\n",
       "      <td>140.759995</td>\n",
       "      <td>0.000426</td>\n",
       "      <td>253.860001</td>\n",
       "      <td>0.013130</td>\n",
       "      <td>190.330002</td>\n",
       "      <td>0.006664</td>\n",
       "    </tr>\n",
       "    <tr>\n",
       "      <th>78</th>\n",
       "      <td>0.0077</td>\n",
       "      <td>2022-05-03</td>\n",
       "      <td>82.809998</td>\n",
       "      <td>-0.000483</td>\n",
       "      <td>167.979996</td>\n",
       "      <td>0.015476</td>\n",
       "      <td>154.259995</td>\n",
       "      <td>0.001363</td>\n",
       "      <td>382.730011</td>\n",
       "      <td>0.004330</td>\n",
       "      <td>141.960007</td>\n",
       "      <td>0.008525</td>\n",
       "      <td>253.639999</td>\n",
       "      <td>-0.000867</td>\n",
       "      <td>191.080002</td>\n",
       "      <td>0.003941</td>\n",
       "    </tr>\n",
       "    <tr>\n",
       "      <th>79</th>\n",
       "      <td>0.0297</td>\n",
       "      <td>2022-05-04</td>\n",
       "      <td>83.029999</td>\n",
       "      <td>0.002657</td>\n",
       "      <td>172.490005</td>\n",
       "      <td>0.026848</td>\n",
       "      <td>158.539993</td>\n",
       "      <td>0.027745</td>\n",
       "      <td>394.339996</td>\n",
       "      <td>0.030335</td>\n",
       "      <td>145.750000</td>\n",
       "      <td>0.026698</td>\n",
       "      <td>261.890015</td>\n",
       "      <td>0.032526</td>\n",
       "      <td>196.729996</td>\n",
       "      <td>0.029569</td>\n",
       "    </tr>\n",
       "    <tr>\n",
       "      <th>80</th>\n",
       "      <td>-0.0390</td>\n",
       "      <td>2022-05-05</td>\n",
       "      <td>82.889999</td>\n",
       "      <td>-0.001686</td>\n",
       "      <td>166.979996</td>\n",
       "      <td>-0.031944</td>\n",
       "      <td>153.850006</td>\n",
       "      <td>-0.029582</td>\n",
       "      <td>380.489990</td>\n",
       "      <td>-0.035122</td>\n",
       "      <td>142.570007</td>\n",
       "      <td>-0.021818</td>\n",
       "      <td>248.809998</td>\n",
       "      <td>-0.049945</td>\n",
       "      <td>189.449997</td>\n",
       "      <td>-0.037005</td>\n",
       "    </tr>\n",
       "    <tr>\n",
       "      <th>81</th>\n",
       "      <td>-0.0141</td>\n",
       "      <td>2022-05-06</td>\n",
       "      <td>82.879997</td>\n",
       "      <td>-0.000121</td>\n",
       "      <td>165.240005</td>\n",
       "      <td>-0.010420</td>\n",
       "      <td>152.979996</td>\n",
       "      <td>-0.005655</td>\n",
       "      <td>378.100006</td>\n",
       "      <td>-0.006281</td>\n",
       "      <td>142.500000</td>\n",
       "      <td>-0.000491</td>\n",
       "      <td>245.399994</td>\n",
       "      <td>-0.013705</td>\n",
       "      <td>188.229996</td>\n",
       "      <td>-0.006440</td>\n",
       "    </tr>\n",
       "  </tbody>\n",
       "</table>\n",
       "</div>"
      ],
      "text/plain": [
       "    daily_returns       date  Adj Close_x  RF_Daily_Returns  Adj Close_y  \\\n",
       "77         0.0137 2022-05-02    82.849998         -0.000072   165.419998   \n",
       "78         0.0077 2022-05-03    82.809998         -0.000483   167.979996   \n",
       "79         0.0297 2022-05-04    83.029999          0.002657   172.490005   \n",
       "80        -0.0390 2022-05-05    82.889999         -0.001686   166.979996   \n",
       "81        -0.0141 2022-05-06    82.879997         -0.000121   165.240005   \n",
       "\n",
       "    VBR_Daily_Returns  Adj Close_x  VIG_Daily_Returns  Adj Close_y  \\\n",
       "77           0.003823   154.050003           0.001235   381.079987   \n",
       "78           0.015476   154.259995           0.001363   382.730011   \n",
       "79           0.026848   158.539993           0.027745   394.339996   \n",
       "80          -0.031944   153.850006          -0.029582   380.489990   \n",
       "81          -0.010420   152.979996          -0.005655   378.100006   \n",
       "\n",
       "    VOO_Daily_Returns  Adj Close_x  VTV_Daily_Returns  Adj Close_y  \\\n",
       "77           0.006285   140.759995           0.000426   253.860001   \n",
       "78           0.004330   141.960007           0.008525   253.639999   \n",
       "79           0.030335   145.750000           0.026698   261.890015   \n",
       "80          -0.035122   142.570007          -0.021818   248.809998   \n",
       "81          -0.006281   142.500000          -0.000491   245.399994   \n",
       "\n",
       "    VUG_Daily_Returns   Adj Close  VV_Daily_Returns  \n",
       "77           0.013130  190.330002          0.006664  \n",
       "78          -0.000867  191.080002          0.003941  \n",
       "79           0.032526  196.729996          0.029569  \n",
       "80          -0.049945  189.449997         -0.037005  \n",
       "81          -0.013705  188.229996         -0.006440  "
      ]
     },
     "execution_count": 10,
     "metadata": {},
     "output_type": "execute_result"
    }
   ],
   "source": [
    "returnReg.tail()"
   ]
  },
  {
   "cell_type": "markdown",
   "metadata": {},
   "source": [
    "* VOO (S&P500) - RF, where RF is not yield but return!\n",
    "* VTV (Value) - VUG (Growth)\n",
    "* VIG (Dividends) - VOO (S&P500)\n",
    "* VV (Large-Cap) - VBR (Small-Cap)"
   ]
  },
  {
   "cell_type": "code",
   "execution_count": 11,
   "metadata": {},
   "outputs": [],
   "source": [
    "# Create Excess Returns column\n",
    "returnReg['XSret'] =  returnReg['daily_returns']-returnReg['RF_Daily_Returns']\n",
    "returnReg['MKTRF'] =  returnReg['VOO_Daily_Returns']-returnReg['RF_Daily_Returns']\n",
    "returnReg['VTV_VUG'] =  returnReg['VTV_Daily_Returns']-returnReg['VUG_Daily_Returns']\n",
    "returnReg['VIG_VOO'] =  returnReg['VIG_Daily_Returns']-returnReg['VOO_Daily_Returns']\n",
    "returnReg['VV_VBR'] =  returnReg['VV_Daily_Returns']-returnReg['VBR_Daily_Returns']"
   ]
  },
  {
   "cell_type": "code",
   "execution_count": 12,
   "metadata": {},
   "outputs": [],
   "source": [
    "# Normalize start date to 0 and convert Ken French data from percent back to number\n",
    "returnReg['MKTRF']=np.where(returnReg['date']==StartDate,0, returnReg['MKTRF'])\n",
    "returnReg['VTV_VUG']=np.where(returnReg['date']==StartDate,0, returnReg['VTV_VUG'])\n",
    "returnReg['VIG_VOO']=np.where(returnReg['date']==StartDate,0, returnReg['VIG_VOO'])\n",
    "returnReg['VV_VBR']=np.where(returnReg['date']==StartDate,0, returnReg['VV_VBR'])\n",
    "returnReg['RF']=np.where(returnReg['date']==StartDate,0, returnReg['RF_Daily_Returns'])\n",
    "returnReg['XSret']=np.where(returnReg['date']==StartDate,0, returnReg['XSret'])"
   ]
  },
  {
   "cell_type": "code",
   "execution_count": 13,
   "metadata": {},
   "outputs": [
    {
     "data": {
      "text/html": [
       "<div>\n",
       "<style scoped>\n",
       "    .dataframe tbody tr th:only-of-type {\n",
       "        vertical-align: middle;\n",
       "    }\n",
       "\n",
       "    .dataframe tbody tr th {\n",
       "        vertical-align: top;\n",
       "    }\n",
       "\n",
       "    .dataframe thead th {\n",
       "        text-align: right;\n",
       "    }\n",
       "</style>\n",
       "<table border=\"1\" class=\"dataframe\">\n",
       "  <thead>\n",
       "    <tr style=\"text-align: right;\">\n",
       "      <th></th>\n",
       "      <th>XSret</th>\n",
       "      <th>RF</th>\n",
       "      <th>MKTRF</th>\n",
       "      <th>VTV_VUG</th>\n",
       "      <th>VIG_VOO</th>\n",
       "      <th>VV_VBR</th>\n",
       "    </tr>\n",
       "  </thead>\n",
       "  <tbody>\n",
       "    <tr>\n",
       "      <th>0</th>\n",
       "      <td>0.000000</td>\n",
       "      <td>0.000000</td>\n",
       "      <td>0.000000</td>\n",
       "      <td>0.000000</td>\n",
       "      <td>0.000000</td>\n",
       "      <td>0.000000e+00</td>\n",
       "    </tr>\n",
       "    <tr>\n",
       "      <th>1</th>\n",
       "      <td>0.012248</td>\n",
       "      <td>0.000352</td>\n",
       "      <td>0.008409</td>\n",
       "      <td>-0.006113</td>\n",
       "      <td>-0.004654</td>\n",
       "      <td>8.340000e-07</td>\n",
       "    </tr>\n",
       "    <tr>\n",
       "      <th>2</th>\n",
       "      <td>-0.003348</td>\n",
       "      <td>-0.000352</td>\n",
       "      <td>0.003340</td>\n",
       "      <td>-0.003444</td>\n",
       "      <td>-0.001091</td>\n",
       "      <td>4.568589e-03</td>\n",
       "    </tr>\n",
       "    <tr>\n",
       "      <th>3</th>\n",
       "      <td>-0.021769</td>\n",
       "      <td>0.000469</td>\n",
       "      <td>-0.014255</td>\n",
       "      <td>0.024313</td>\n",
       "      <td>0.006627</td>\n",
       "      <td>-1.714997e-02</td>\n",
       "    </tr>\n",
       "    <tr>\n",
       "      <th>4</th>\n",
       "      <td>0.002890</td>\n",
       "      <td>-0.001290</td>\n",
       "      <td>0.001594</td>\n",
       "      <td>-0.003596</td>\n",
       "      <td>-0.006502</td>\n",
       "      <td>-1.046130e-04</td>\n",
       "    </tr>\n",
       "  </tbody>\n",
       "</table>\n",
       "</div>"
      ],
      "text/plain": [
       "      XSret        RF     MKTRF   VTV_VUG   VIG_VOO        VV_VBR\n",
       "0  0.000000  0.000000  0.000000  0.000000  0.000000  0.000000e+00\n",
       "1  0.012248  0.000352  0.008409 -0.006113 -0.004654  8.340000e-07\n",
       "2 -0.003348 -0.000352  0.003340 -0.003444 -0.001091  4.568589e-03\n",
       "3 -0.021769  0.000469 -0.014255  0.024313  0.006627 -1.714997e-02\n",
       "4  0.002890 -0.001290  0.001594 -0.003596 -0.006502 -1.046130e-04"
      ]
     },
     "execution_count": 13,
     "metadata": {},
     "output_type": "execute_result"
    }
   ],
   "source": [
    "# Keep Only\n",
    "returnReg_sub = returnReg[['XSret', 'RF', 'MKTRF', 'VTV_VUG', 'VIG_VOO', 'VV_VBR']]\n",
    "\n",
    "returnReg_sub.head()"
   ]
  },
  {
   "cell_type": "markdown",
   "metadata": {},
   "source": [
    "Try different factor models (on the RHS), at least:\n",
    "* a 0-factor (relative to risk-free rate),\n",
    "* a 1-factor (relative to CAPM),\n",
    "* a more general factor portfolio."
   ]
  },
  {
   "cell_type": "code",
   "execution_count": 14,
   "metadata": {},
   "outputs": [
    {
     "name": "stderr",
     "output_type": "stream",
     "text": [
      "/Users/natejensen/opt/anaconda3/lib/python3.8/site-packages/statsmodels/tsa/tsatools.py:142: FutureWarning: In a future version of pandas all arguments of concat except for the argument 'objs' will be keyword-only\n",
      "  x = pd.concat(x[::order], 1)\n"
     ]
    }
   ],
   "source": [
    "# Define Fama-French Factors as independent varialbles\n",
    "# 0 Factor Model\n",
    "X1=sm.add_constant(returnReg_sub[['RF']])\n",
    "# CAPM\n",
    "X2=sm.add_constant(returnReg_sub[['MKTRF']])\n",
    "# Vanguard Multi-Factor Model\n",
    "X3=sm.add_constant(returnReg_sub[['MKTRF','VTV_VUG','VIG_VOO','VV_VBR']])"
   ]
  },
  {
   "cell_type": "code",
   "execution_count": 15,
   "metadata": {},
   "outputs": [],
   "source": [
    "# Define Excess Returns as the dependent variable\n",
    "Y=returnReg_sub['XSret']"
   ]
  },
  {
   "cell_type": "code",
   "execution_count": 16,
   "metadata": {},
   "outputs": [
    {
     "name": "stdout",
     "output_type": "stream",
     "text": [
      "0-Factor Regression\n",
      "                            OLS Regression Results                            \n",
      "==============================================================================\n",
      "Dep. Variable:                  XSret   R-squared:                       0.005\n",
      "Model:                            OLS   Adj. R-squared:                 -0.008\n",
      "Method:                 Least Squares   F-statistic:                    0.3742\n",
      "Date:                Wed, 18 May 2022   Prob (F-statistic):              0.542\n",
      "Time:                        20:36:33   Log-Likelihood:                 212.93\n",
      "No. Observations:                  82   AIC:                            -421.9\n",
      "Df Residuals:                      80   BIC:                            -417.0\n",
      "Df Model:                           1                                         \n",
      "Covariance Type:            nonrobust                                         \n",
      "==============================================================================\n",
      "                 coef    std err          t      P>|t|      [0.025      0.975]\n",
      "------------------------------------------------------------------------------\n",
      "const         -0.0019      0.002     -0.909      0.366      -0.006       0.002\n",
      "RF            -0.8960      1.465     -0.612      0.542      -3.811       2.019\n",
      "==============================================================================\n",
      "Omnibus:                        2.688   Durbin-Watson:                   1.805\n",
      "Prob(Omnibus):                  0.261   Jarque-Bera (JB):                1.871\n",
      "Skew:                           0.169   Prob(JB):                        0.392\n",
      "Kurtosis:                       2.342   Cond. No.                         727.\n",
      "==============================================================================\n",
      "\n",
      "Notes:\n",
      "[1] Standard Errors assume that the covariance matrix of the errors is correctly specified.\n"
     ]
    }
   ],
   "source": [
    "# RF Only (0-factor)\n",
    "print(\"0-Factor Regression\")\n",
    "model1F = sm.OLS(Y,X1).fit()\n",
    "print(model1F.summary())"
   ]
  },
  {
   "cell_type": "code",
   "execution_count": 17,
   "metadata": {},
   "outputs": [
    {
     "name": "stdout",
     "output_type": "stream",
     "text": [
      "1-Factor Regression (CAPM)\n",
      "                            OLS Regression Results                            \n",
      "==============================================================================\n",
      "Dep. Variable:                  XSret   R-squared:                       0.827\n",
      "Model:                            OLS   Adj. R-squared:                  0.824\n",
      "Method:                 Least Squares   F-statistic:                     381.4\n",
      "Date:                Wed, 18 May 2022   Prob (F-statistic):           3.54e-32\n",
      "Time:                        20:36:34   Log-Likelihood:                 284.58\n",
      "No. Observations:                  82   AIC:                            -565.2\n",
      "Df Residuals:                      80   BIC:                            -560.3\n",
      "Df Model:                           1                                         \n",
      "Covariance Type:            nonrobust                                         \n",
      "==============================================================================\n",
      "                 coef    std err          t      P>|t|      [0.025      0.975]\n",
      "------------------------------------------------------------------------------\n",
      "const         -0.0004      0.001     -0.515      0.608      -0.002       0.001\n",
      "MKTRF          1.1159      0.057     19.530      0.000       1.002       1.230\n",
      "==============================================================================\n",
      "Omnibus:                        5.086   Durbin-Watson:                   1.702\n",
      "Prob(Omnibus):                  0.079   Jarque-Bera (JB):                5.249\n",
      "Skew:                          -0.316   Prob(JB):                       0.0725\n",
      "Kurtosis:                       4.066   Cond. No.                         67.9\n",
      "==============================================================================\n",
      "\n",
      "Notes:\n",
      "[1] Standard Errors assume that the covariance matrix of the errors is correctly specified.\n"
     ]
    }
   ],
   "source": [
    "# CAPM (FF 1-factor)\n",
    "print(\"1-Factor Regression (CAPM)\")\n",
    "model2F = sm.OLS(Y,X2).fit()\n",
    "print(model2F.summary())"
   ]
  },
  {
   "cell_type": "code",
   "execution_count": 18,
   "metadata": {},
   "outputs": [
    {
     "name": "stdout",
     "output_type": "stream",
     "text": [
      "Vanguard Multi-Factor Model\n",
      "                            OLS Regression Results                            \n",
      "==============================================================================\n",
      "Dep. Variable:                  XSret   R-squared:                       0.868\n",
      "Model:                            OLS   Adj. R-squared:                  0.861\n",
      "Method:                 Least Squares   F-statistic:                     126.6\n",
      "Date:                Wed, 18 May 2022   Prob (F-statistic):           4.73e-33\n",
      "Time:                        20:36:46   Log-Likelihood:                 295.77\n",
      "No. Observations:                  82   AIC:                            -581.5\n",
      "Df Residuals:                      77   BIC:                            -569.5\n",
      "Df Model:                           4                                         \n",
      "Covariance Type:            nonrobust                                         \n",
      "==============================================================================\n",
      "                 coef    std err          t      P>|t|      [0.025      0.975]\n",
      "------------------------------------------------------------------------------\n",
      "const         -0.0002      0.001     -0.298      0.766      -0.002       0.001\n",
      "MKTRF          0.8876      0.076     11.648      0.000       0.736       1.039\n",
      "VTV_VUG       -0.3559      0.118     -3.009      0.004      -0.591      -0.120\n",
      "VIG_VOO       -0.1995      0.300     -0.664      0.508      -0.797       0.398\n",
      "VV_VBR        -0.4703      0.138     -3.410      0.001      -0.745      -0.196\n",
      "==============================================================================\n",
      "Omnibus:                        8.061   Durbin-Watson:                   1.947\n",
      "Prob(Omnibus):                  0.018   Jarque-Bera (JB):               15.591\n",
      "Skew:                           0.161   Prob(JB):                     0.000411\n",
      "Kurtosis:                       5.112   Cond. No.                         417.\n",
      "==============================================================================\n",
      "\n",
      "Notes:\n",
      "[1] Standard Errors assume that the covariance matrix of the errors is correctly specified.\n"
     ]
    }
   ],
   "source": [
    "# Vanguard Multi-Factor Model\n",
    "print(\"Vanguard Multi-Factor Model\")\n",
    "model3F = sm.OLS(Y,X3).fit()\n",
    "print(model3F.summary())"
   ]
  },
  {
   "cell_type": "markdown",
   "metadata": {},
   "source": [
    "## Attribution"
   ]
  },
  {
   "cell_type": "markdown",
   "metadata": {},
   "source": [
    "Math notes:\n",
    "Closing of inception / closing of last day -1\n",
    "\n",
    "* VOO (S&P500) - SHY (RF)\n",
    "* VTV (Value) - VUG (Growth)\n",
    "* VIG (Dividends) - VOO (S&P500)\n",
    "* VV (Large-Cap) - VBR (Small-Cap)"
   ]
  },
  {
   "cell_type": "code",
   "execution_count": 48,
   "metadata": {},
   "outputs": [
    {
     "name": "stdout",
     "output_type": "stream",
     "text": [
      "-0.10135192124783754\n"
     ]
    }
   ],
   "source": [
    "# Avg Returns\n",
    "VOO_Avg_Return = ((VOO[VOO['date']==StartDate]['Adj Close'].iloc[0]) / (VOO[VOO['date']==EndDate]['Adj Close'].iloc[0])) -1\n",
    "SHY_Avg_Return = ((SHY[SHY['date']==StartDate]['Adj Close'].iloc[0]) / (SHY[SHY['date']==EndDate]['Adj Close'].iloc[0])) -1\n",
    "VTV_Avg_Return = ((VTV[VTV['date']==StartDate]['Adj Close'].iloc[0]) / (VTV[VTV['date']==EndDate]['Adj Close'].iloc[0])) -1\n",
    "VUG_Avg_Return = ((VUG[VUG['date']==StartDate]['Adj Close'].iloc[0]) / (VUG[VUG['date']==EndDate]['Adj Close'].iloc[0])) -1\n",
    "VIG_Avg_Return = ((VIG[VIG['date']==StartDate]['Adj Close'].iloc[0]) / (VIG[VIG['date']==EndDate]['Adj Close'].iloc[0])) -1\n",
    "VV_Avg_Return = ((VV[VV['date']==StartDate]['Adj Close'].iloc[0]) / (VV[VV['date']==EndDate]['Adj Close'].iloc[0])) -1\n",
    "VBR_Avg_Return = ((VBR[VBR['date']==StartDate]['Adj Close'].iloc[0]) / (VBR[VBR['date']==EndDate]['Adj Close'].iloc[0])) -1\n",
    "\n",
    "MKTRF = (VOO_Avg_Return-SHY_Avg_Return)*-1\n",
    "VTV_VUG = (VTV_Avg_Return)*-1-(VUG_Avg_Return)*-1\n",
    "VIG_VOO = (VIG_Avg_Return)*-1-(VOO_Avg_Return)*-1\n",
    "VV_VBR = (VV_Avg_Return)*-1-(VBR_Avg_Return)*-1\n",
    "\n",
    "print(MKTRF)"
   ]
  },
  {
   "cell_type": "code",
   "execution_count": 49,
   "metadata": {},
   "outputs": [
    {
     "name": "stdout",
     "output_type": "stream",
     "text": [
      "const     -0.000226\n",
      "MKTRF      0.887629\n",
      "VTV_VUG   -0.355892\n",
      "VIG_VOO   -0.199523\n",
      "VV_VBR    -0.470300\n",
      "dtype: float64\n"
     ]
    }
   ],
   "source": [
    "# Coefficients of multi-factor regression\n",
    "print(model3F.params)"
   ]
  },
  {
   "cell_type": "code",
   "execution_count": 50,
   "metadata": {},
   "outputs": [
    {
     "name": "stdout",
     "output_type": "stream",
     "text": [
      "[1, -0.10135192124783754, 0.19374843907758743, 0.03465445194118777, -0.06021215336147301]\n"
     ]
    }
   ],
   "source": [
    "averages = [1, MKTRF, VTV_VUG, VIG_VOO, VV_VBR]\n",
    "\n",
    "print(averages)"
   ]
  },
  {
   "cell_type": "code",
   "execution_count": 51,
   "metadata": {},
   "outputs": [
    {
     "name": "stdout",
     "output_type": "stream",
     "text": [
      "const     -0.022582\n",
      "MKTRF     -8.996292\n",
      "VTV_VUG   -6.895355\n",
      "VIG_VOO   -0.691436\n",
      "VV_VBR     2.831780\n",
      "dtype: float64\n"
     ]
    }
   ],
   "source": [
    "# Attribution in %s\n",
    "print(model3F.params * averages * 100)"
   ]
  },
  {
   "cell_type": "code",
   "execution_count": 52,
   "metadata": {},
   "outputs": [
    {
     "data": {
      "text/plain": [
       "-13.773884390160951"
      ]
     },
     "execution_count": 52,
     "metadata": {},
     "output_type": "execute_result"
    }
   ],
   "source": [
    "# What should the sum equal? To the total return - risk free rate\n",
    "sum(model3F.params * averages * 100)"
   ]
  },
  {
   "cell_type": "markdown",
   "metadata": {},
   "source": [
    "# Industry Attribution"
   ]
  },
  {
   "cell_type": "markdown",
   "metadata": {},
   "source": [
    "over 80% of the portfolio consisted of:\n",
    "* Business Equipment (aka IT) -> VGT\n",
    "* Money (aka Finance) -> VFH\n",
    "* Health -> VHT"
   ]
  },
  {
   "cell_type": "markdown",
   "metadata": {},
   "source": [
    "## Vanguard Factors\n",
    "### Import Data"
   ]
  },
  {
   "cell_type": "code",
   "execution_count": 24,
   "metadata": {},
   "outputs": [
    {
     "data": {
      "text/html": [
       "<div>\n",
       "<style scoped>\n",
       "    .dataframe tbody tr th:only-of-type {\n",
       "        vertical-align: middle;\n",
       "    }\n",
       "\n",
       "    .dataframe tbody tr th {\n",
       "        vertical-align: top;\n",
       "    }\n",
       "\n",
       "    .dataframe thead th {\n",
       "        text-align: right;\n",
       "    }\n",
       "</style>\n",
       "<table border=\"1\" class=\"dataframe\">\n",
       "  <thead>\n",
       "    <tr style=\"text-align: right;\">\n",
       "      <th></th>\n",
       "      <th>Date</th>\n",
       "      <th>Adj Close</th>\n",
       "      <th>VGT_Daily_Returns</th>\n",
       "    </tr>\n",
       "  </thead>\n",
       "  <tbody>\n",
       "    <tr>\n",
       "      <th>0</th>\n",
       "      <td>1/3/22</td>\n",
       "      <td>461.228821</td>\n",
       "      <td>NaN</td>\n",
       "    </tr>\n",
       "    <tr>\n",
       "      <th>1</th>\n",
       "      <td>1/4/22</td>\n",
       "      <td>455.398560</td>\n",
       "      <td>-0.012641</td>\n",
       "    </tr>\n",
       "    <tr>\n",
       "      <th>2</th>\n",
       "      <td>1/5/22</td>\n",
       "      <td>440.283813</td>\n",
       "      <td>-0.033190</td>\n",
       "    </tr>\n",
       "    <tr>\n",
       "      <th>3</th>\n",
       "      <td>1/6/22</td>\n",
       "      <td>438.616638</td>\n",
       "      <td>-0.003787</td>\n",
       "    </tr>\n",
       "    <tr>\n",
       "      <th>4</th>\n",
       "      <td>1/7/22</td>\n",
       "      <td>434.134094</td>\n",
       "      <td>-0.010220</td>\n",
       "    </tr>\n",
       "  </tbody>\n",
       "</table>\n",
       "</div>"
      ],
      "text/plain": [
       "     Date   Adj Close  VGT_Daily_Returns\n",
       "0  1/3/22  461.228821                NaN\n",
       "1  1/4/22  455.398560          -0.012641\n",
       "2  1/5/22  440.283813          -0.033190\n",
       "3  1/6/22  438.616638          -0.003787\n",
       "4  1/7/22  434.134094          -0.010220"
      ]
     },
     "execution_count": 24,
     "metadata": {},
     "output_type": "execute_result"
    }
   ],
   "source": [
    "VGT = pd.read_csv('VGT.csv')\n",
    "VFH = pd.read_csv('VFH.csv')\n",
    "VHT = pd.read_csv('VHT.csv')\n",
    "\n",
    "VGT.head()"
   ]
  },
  {
   "cell_type": "code",
   "execution_count": 25,
   "metadata": {},
   "outputs": [
    {
     "data": {
      "text/html": [
       "<div>\n",
       "<style scoped>\n",
       "    .dataframe tbody tr th:only-of-type {\n",
       "        vertical-align: middle;\n",
       "    }\n",
       "\n",
       "    .dataframe tbody tr th {\n",
       "        vertical-align: top;\n",
       "    }\n",
       "\n",
       "    .dataframe thead th {\n",
       "        text-align: right;\n",
       "    }\n",
       "</style>\n",
       "<table border=\"1\" class=\"dataframe\">\n",
       "  <thead>\n",
       "    <tr style=\"text-align: right;\">\n",
       "      <th></th>\n",
       "      <th>Date</th>\n",
       "      <th>Adj Close</th>\n",
       "      <th>VGT_Daily_Returns</th>\n",
       "      <th>date</th>\n",
       "    </tr>\n",
       "  </thead>\n",
       "  <tbody>\n",
       "    <tr>\n",
       "      <th>0</th>\n",
       "      <td>1/3/22</td>\n",
       "      <td>461.228821</td>\n",
       "      <td>NaN</td>\n",
       "      <td>2022-01-03</td>\n",
       "    </tr>\n",
       "    <tr>\n",
       "      <th>1</th>\n",
       "      <td>1/4/22</td>\n",
       "      <td>455.398560</td>\n",
       "      <td>-0.012641</td>\n",
       "      <td>2022-01-04</td>\n",
       "    </tr>\n",
       "    <tr>\n",
       "      <th>2</th>\n",
       "      <td>1/5/22</td>\n",
       "      <td>440.283813</td>\n",
       "      <td>-0.033190</td>\n",
       "      <td>2022-01-05</td>\n",
       "    </tr>\n",
       "    <tr>\n",
       "      <th>3</th>\n",
       "      <td>1/6/22</td>\n",
       "      <td>438.616638</td>\n",
       "      <td>-0.003787</td>\n",
       "      <td>2022-01-06</td>\n",
       "    </tr>\n",
       "    <tr>\n",
       "      <th>4</th>\n",
       "      <td>1/7/22</td>\n",
       "      <td>434.134094</td>\n",
       "      <td>-0.010220</td>\n",
       "      <td>2022-01-07</td>\n",
       "    </tr>\n",
       "  </tbody>\n",
       "</table>\n",
       "</div>"
      ],
      "text/plain": [
       "     Date   Adj Close  VGT_Daily_Returns       date\n",
       "0  1/3/22  461.228821                NaN 2022-01-03\n",
       "1  1/4/22  455.398560          -0.012641 2022-01-04\n",
       "2  1/5/22  440.283813          -0.033190 2022-01-05\n",
       "3  1/6/22  438.616638          -0.003787 2022-01-06\n",
       "4  1/7/22  434.134094          -0.010220 2022-01-07"
      ]
     },
     "execution_count": 25,
     "metadata": {},
     "output_type": "execute_result"
    }
   ],
   "source": [
    "# Convert Date to an actual date format\n",
    "VGT['date'] = pd.to_datetime(VGT['Date'].astype(str), format='%m/%d/%y')\n",
    "VFH['date'] = pd.to_datetime(VFH['Date'].astype(str), format='%m/%d/%y')\n",
    "VHT['date'] = pd.to_datetime(VHT['Date'].astype(str), format='%m/%d/%y')\n",
    "\n",
    "VGT.head()"
   ]
  },
  {
   "cell_type": "code",
   "execution_count": 26,
   "metadata": {},
   "outputs": [],
   "source": [
    "# Drop extra variables\n",
    "VGT.drop(['Date'], axis = 1, inplace=True)\n",
    "VFH.drop(['Date'], axis = 1, inplace=True)\n",
    "VHT.drop(['Date'], axis = 1, inplace=True)"
   ]
  },
  {
   "cell_type": "code",
   "execution_count": 27,
   "metadata": {},
   "outputs": [
    {
     "data": {
      "text/html": [
       "<div>\n",
       "<style scoped>\n",
       "    .dataframe tbody tr th:only-of-type {\n",
       "        vertical-align: middle;\n",
       "    }\n",
       "\n",
       "    .dataframe tbody tr th {\n",
       "        vertical-align: top;\n",
       "    }\n",
       "\n",
       "    .dataframe thead th {\n",
       "        text-align: right;\n",
       "    }\n",
       "</style>\n",
       "<table border=\"1\" class=\"dataframe\">\n",
       "  <thead>\n",
       "    <tr style=\"text-align: right;\">\n",
       "      <th></th>\n",
       "      <th>Adj Close</th>\n",
       "      <th>VGT_Daily_Returns</th>\n",
       "      <th>date</th>\n",
       "    </tr>\n",
       "  </thead>\n",
       "  <tbody>\n",
       "    <tr>\n",
       "      <th>82</th>\n",
       "      <td>373.269989</td>\n",
       "      <td>0.016530</td>\n",
       "      <td>2022-05-02</td>\n",
       "    </tr>\n",
       "    <tr>\n",
       "      <th>83</th>\n",
       "      <td>373.510010</td>\n",
       "      <td>0.000643</td>\n",
       "      <td>2022-05-03</td>\n",
       "    </tr>\n",
       "    <tr>\n",
       "      <th>84</th>\n",
       "      <td>386.459991</td>\n",
       "      <td>0.034671</td>\n",
       "      <td>2022-05-04</td>\n",
       "    </tr>\n",
       "    <tr>\n",
       "      <th>85</th>\n",
       "      <td>366.730011</td>\n",
       "      <td>-0.051053</td>\n",
       "      <td>2022-05-05</td>\n",
       "    </tr>\n",
       "    <tr>\n",
       "      <th>86</th>\n",
       "      <td>362.750000</td>\n",
       "      <td>-0.010853</td>\n",
       "      <td>2022-05-06</td>\n",
       "    </tr>\n",
       "  </tbody>\n",
       "</table>\n",
       "</div>"
      ],
      "text/plain": [
       "     Adj Close  VGT_Daily_Returns       date\n",
       "82  373.269989           0.016530 2022-05-02\n",
       "83  373.510010           0.000643 2022-05-03\n",
       "84  386.459991           0.034671 2022-05-04\n",
       "85  366.730011          -0.051053 2022-05-05\n",
       "86  362.750000          -0.010853 2022-05-06"
      ]
     },
     "execution_count": 27,
     "metadata": {},
     "output_type": "execute_result"
    }
   ],
   "source": [
    "# Exclude days outside of window 1/10/2022 - 5/7/2022\n",
    "VGT = VGT[(VGT['date'] >= StartDate) & (VGT['date'] <= EndDate)]\n",
    "VFH = VFH[(VFH['date'] >= StartDate) & (VFH['date'] <= EndDate)]\n",
    "VHT = VHT[(VHT['date'] >= StartDate) & (VHT['date'] <= EndDate)]\n",
    "\n",
    "VGT.tail()"
   ]
  },
  {
   "cell_type": "markdown",
   "metadata": {},
   "source": [
    "## Combine Datasets"
   ]
  },
  {
   "cell_type": "code",
   "execution_count": 28,
   "metadata": {},
   "outputs": [
    {
     "name": "stderr",
     "output_type": "stream",
     "text": [
      "<ipython-input-28-86176b929689>:4: FutureWarning: Passing 'suffixes' which cause duplicate columns {'Adj Close_x'} in the result is deprecated and will raise a MergeError in a future version.\n",
      "  returnReg4 = pd.merge(returnReg3,SHY,how='inner',on=['date'])\n"
     ]
    }
   ],
   "source": [
    "returnReg1 = pd.merge(data,VGT,how='inner',on=['date'])\n",
    "returnReg2 = pd.merge(returnReg1,VFH,how='inner',on=['date'])\n",
    "returnReg3 = pd.merge(returnReg2,VHT,how='inner',on=['date'])\n",
    "returnReg4 = pd.merge(returnReg3,SHY,how='inner',on=['date'])\n",
    "returnReg5 = pd.merge(returnReg4,VOO,how='inner',on=['date'])"
   ]
  },
  {
   "cell_type": "code",
   "execution_count": 31,
   "metadata": {},
   "outputs": [],
   "source": [
    "# Create Excess Returns column\n",
    "returnReg5['XSret'] =  returnReg5['daily_returns']-returnReg5['RF_Daily_Returns']\n",
    "returnReg5['VGT_Xs'] =  returnReg5['VGT_Daily_Returns']-returnReg5['RF_Daily_Returns']\n",
    "returnReg5['VFH_Xs'] =  returnReg5['VFH_Daily_Returns']-returnReg5['RF_Daily_Returns']\n",
    "returnReg5['VHT_Xs'] =  returnReg5['VHT_Daily_Returns']-returnReg5['RF_Daily_Returns']\n",
    "returnReg5['MKTRF'] =  returnReg5['VOO_Daily_Returns']-returnReg5['RF_Daily_Returns']"
   ]
  },
  {
   "cell_type": "code",
   "execution_count": 32,
   "metadata": {},
   "outputs": [],
   "source": [
    "# Normalize start date to 0 and convert Ken French data from percent back to number\n",
    "returnReg5['MKTRF']=np.where(returnReg5['date']==StartDate,0, returnReg5['MKTRF'])\n",
    "returnReg5['VGT_Xs']=np.where(returnReg5['date']==StartDate,0, returnReg5['VGT_Xs'])\n",
    "returnReg5['VFH_Xs']=np.where(returnReg5['date']==StartDate,0, returnReg5['VFH_Xs'])\n",
    "returnReg5['VHT_Xs']=np.where(returnReg5['date']==StartDate,0, returnReg5['VHT_Xs'])\n",
    "returnReg5['XSret']=np.where(returnReg5['date']==StartDate,0, returnReg5['XSret'])"
   ]
  },
  {
   "cell_type": "code",
   "execution_count": 33,
   "metadata": {},
   "outputs": [
    {
     "data": {
      "text/html": [
       "<div>\n",
       "<style scoped>\n",
       "    .dataframe tbody tr th:only-of-type {\n",
       "        vertical-align: middle;\n",
       "    }\n",
       "\n",
       "    .dataframe tbody tr th {\n",
       "        vertical-align: top;\n",
       "    }\n",
       "\n",
       "    .dataframe thead th {\n",
       "        text-align: right;\n",
       "    }\n",
       "</style>\n",
       "<table border=\"1\" class=\"dataframe\">\n",
       "  <thead>\n",
       "    <tr style=\"text-align: right;\">\n",
       "      <th></th>\n",
       "      <th>XSret</th>\n",
       "      <th>MKTRF</th>\n",
       "      <th>VGT_Xs</th>\n",
       "      <th>VFH_Xs</th>\n",
       "      <th>VHT_Xs</th>\n",
       "    </tr>\n",
       "  </thead>\n",
       "  <tbody>\n",
       "    <tr>\n",
       "      <th>0</th>\n",
       "      <td>0.000000</td>\n",
       "      <td>0.000000</td>\n",
       "      <td>0.000000</td>\n",
       "      <td>0.000000</td>\n",
       "      <td>0.000000</td>\n",
       "    </tr>\n",
       "    <tr>\n",
       "      <th>1</th>\n",
       "      <td>0.012248</td>\n",
       "      <td>0.008409</td>\n",
       "      <td>0.012857</td>\n",
       "      <td>0.009274</td>\n",
       "      <td>0.007877</td>\n",
       "    </tr>\n",
       "    <tr>\n",
       "      <th>2</th>\n",
       "      <td>-0.003348</td>\n",
       "      <td>0.003340</td>\n",
       "      <td>0.003617</td>\n",
       "      <td>0.000450</td>\n",
       "      <td>-0.005323</td>\n",
       "    </tr>\n",
       "    <tr>\n",
       "      <th>3</th>\n",
       "      <td>-0.021769</td>\n",
       "      <td>-0.014255</td>\n",
       "      <td>-0.028740</td>\n",
       "      <td>-0.004401</td>\n",
       "      <td>-0.017786</td>\n",
       "    </tr>\n",
       "    <tr>\n",
       "      <th>4</th>\n",
       "      <td>0.002890</td>\n",
       "      <td>0.001594</td>\n",
       "      <td>0.009360</td>\n",
       "      <td>-0.007492</td>\n",
       "      <td>0.000574</td>\n",
       "    </tr>\n",
       "  </tbody>\n",
       "</table>\n",
       "</div>"
      ],
      "text/plain": [
       "      XSret     MKTRF    VGT_Xs    VFH_Xs    VHT_Xs\n",
       "0  0.000000  0.000000  0.000000  0.000000  0.000000\n",
       "1  0.012248  0.008409  0.012857  0.009274  0.007877\n",
       "2 -0.003348  0.003340  0.003617  0.000450 -0.005323\n",
       "3 -0.021769 -0.014255 -0.028740 -0.004401 -0.017786\n",
       "4  0.002890  0.001594  0.009360 -0.007492  0.000574"
      ]
     },
     "execution_count": 33,
     "metadata": {},
     "output_type": "execute_result"
    }
   ],
   "source": [
    "# Keep Only\n",
    "returnReg5_sub = returnReg5[['XSret', 'MKTRF', 'VGT_Xs', 'VFH_Xs', 'VHT_Xs']]\n",
    "\n",
    "returnReg5_sub.head()"
   ]
  },
  {
   "cell_type": "code",
   "execution_count": 34,
   "metadata": {},
   "outputs": [],
   "source": [
    "# Define Excess Returns as the dependent variable\n",
    "Y=returnReg5_sub['XSret']"
   ]
  },
  {
   "cell_type": "code",
   "execution_count": 35,
   "metadata": {},
   "outputs": [
    {
     "name": "stderr",
     "output_type": "stream",
     "text": [
      "/Users/natejensen/opt/anaconda3/lib/python3.8/site-packages/statsmodels/tsa/tsatools.py:142: FutureWarning: In a future version of pandas all arguments of concat except for the argument 'objs' will be keyword-only\n",
      "  x = pd.concat(x[::order], 1)\n"
     ]
    }
   ],
   "source": [
    "# Vanguard Sector-Factor Model\n",
    "X4=sm.add_constant(returnReg5_sub[['MKTRF','VGT_Xs','VFH_Xs','VHT_Xs']])"
   ]
  },
  {
   "cell_type": "code",
   "execution_count": 36,
   "metadata": {},
   "outputs": [
    {
     "name": "stdout",
     "output_type": "stream",
     "text": [
      "Vanguard Multi-Factor Model\n",
      "                            OLS Regression Results                            \n",
      "==============================================================================\n",
      "Dep. Variable:                  XSret   R-squared:                       0.885\n",
      "Model:                            OLS   Adj. R-squared:                  0.879\n",
      "Method:                 Least Squares   F-statistic:                     148.5\n",
      "Date:                Wed, 18 May 2022   Prob (F-statistic):           2.21e-35\n",
      "Time:                        20:37:48   Log-Likelihood:                 301.50\n",
      "No. Observations:                  82   AIC:                            -593.0\n",
      "Df Residuals:                      77   BIC:                            -581.0\n",
      "Df Model:                           4                                         \n",
      "Covariance Type:            nonrobust                                         \n",
      "==============================================================================\n",
      "                 coef    std err          t      P>|t|      [0.025      0.975]\n",
      "------------------------------------------------------------------------------\n",
      "const      -3.121e-05      0.001     -0.044      0.965      -0.001       0.001\n",
      "MKTRF         -0.5249      0.313     -1.679      0.097      -1.147       0.097\n",
      "VGT_Xs         0.7995      0.142      5.628      0.000       0.517       1.082\n",
      "VFH_Xs         0.4619      0.101      4.555      0.000       0.260       0.664\n",
      "VHT_Xs         0.1067      0.125      0.856      0.395      -0.141       0.355\n",
      "==============================================================================\n",
      "Omnibus:                        8.272   Durbin-Watson:                   2.056\n",
      "Prob(Omnibus):                  0.016   Jarque-Bera (JB):               15.174\n",
      "Skew:                           0.231   Prob(JB):                     0.000507\n",
      "Kurtosis:                       5.056   Cond. No.                         508.\n",
      "==============================================================================\n",
      "\n",
      "Notes:\n",
      "[1] Standard Errors assume that the covariance matrix of the errors is correctly specified.\n"
     ]
    }
   ],
   "source": [
    "# Vanguard Sector-Factor Model\n",
    "print(\"Vanguard Multi-Factor Model\")\n",
    "model4F = sm.OLS(Y,X4).fit()\n",
    "print(model4F.summary())"
   ]
  },
  {
   "cell_type": "markdown",
   "metadata": {},
   "source": [
    "## Industry Baby"
   ]
  },
  {
   "cell_type": "code",
   "execution_count": 42,
   "metadata": {},
   "outputs": [
    {
     "name": "stdout",
     "output_type": "stream",
     "text": [
      "-0.17114887059026995\n"
     ]
    }
   ],
   "source": [
    "# Avg Returns\n",
    "VOO_Avg_Return = ((VOO[VOO['date']==StartDate]['Adj Close'].iloc[0]) / (VOO[VOO['date']==EndDate]['Adj Close'].iloc[0])) -1\n",
    "SHY_Avg_Return = ((SHY[SHY['date']==StartDate]['Adj Close'].iloc[0]) / (SHY[SHY['date']==EndDate]['Adj Close'].iloc[0])) -1\n",
    "VGT_Avg_Return = ((VGT[VGT['date']==StartDate]['Adj Close'].iloc[0]) / (VGT[VGT['date']==EndDate]['Adj Close'].iloc[0])) -1\n",
    "VFH_Avg_Return = ((VFH[VFH['date']==StartDate]['Adj Close'].iloc[0]) / (VFH[VFH['date']==EndDate]['Adj Close'].iloc[0])) -1\n",
    "VHT_Avg_Return = ((VHT[VHT['date']==StartDate]['Adj Close'].iloc[0]) / (VHT[VHT['date']==EndDate]['Adj Close'].iloc[0])) -1\n",
    "\n",
    "MKTRF = (VOO_Avg_Return-SHY_Avg_Return)*-1\n",
    "VGT_Xs = (VGT_Avg_Return-SHY_Avg_Return)*-1\n",
    "VFH_Xs = (VFH_Avg_Return-SHY_Avg_Return)*-1\n",
    "VHT_Xs = (VHT_Avg_Return-SHY_Avg_Return)*-1\n",
    "\n",
    "print(VGT_Xs)"
   ]
  },
  {
   "cell_type": "code",
   "execution_count": 43,
   "metadata": {},
   "outputs": [
    {
     "name": "stdout",
     "output_type": "stream",
     "text": [
      "const    -0.000031\n",
      "MKTRF    -0.524859\n",
      "VGT_Xs    0.799493\n",
      "VFH_Xs    0.461931\n",
      "VHT_Xs    0.106663\n",
      "dtype: float64\n"
     ]
    }
   ],
   "source": [
    "# Coefficients of multi-factor regression\n",
    "print(model4F.params)"
   ]
  },
  {
   "cell_type": "code",
   "execution_count": 44,
   "metadata": {},
   "outputs": [
    {
     "name": "stdout",
     "output_type": "stream",
     "text": [
      "[1, -0.10135192124783754, -0.17114887059026995, -0.1577083450740453, -0.045196638143977896]\n"
     ]
    }
   ],
   "source": [
    "averages = [1, MKTRF, VGT_Xs, VFH_Xs, VHT_Xs]\n",
    "\n",
    "print(averages)"
   ]
  },
  {
   "cell_type": "code",
   "execution_count": 46,
   "metadata": {},
   "outputs": [
    {
     "name": "stdout",
     "output_type": "stream",
     "text": [
      "const     -0.003121\n",
      "MKTRF      5.319551\n",
      "VGT_Xs   -13.683229\n",
      "VFH_Xs    -7.285037\n",
      "VHT_Xs    -0.482082\n",
      "dtype: float64\n"
     ]
    }
   ],
   "source": [
    "# Attribution in %s\n",
    "print(model4F.params * averages * 100)"
   ]
  },
  {
   "cell_type": "code",
   "execution_count": 47,
   "metadata": {},
   "outputs": [
    {
     "data": {
      "text/plain": [
       "-16.13391737524207"
      ]
     },
     "execution_count": 47,
     "metadata": {},
     "output_type": "execute_result"
    }
   ],
   "source": [
    "# What should the sum equal? To the total return - risk free rate\n",
    "sum(model4F.params * averages * 100)"
   ]
  },
  {
   "cell_type": "code",
   "execution_count": null,
   "metadata": {},
   "outputs": [],
   "source": []
  }
 ],
 "metadata": {
  "kernelspec": {
   "display_name": "Python 3",
   "language": "python",
   "name": "python3"
  },
  "language_info": {
   "codemirror_mode": {
    "name": "ipython",
    "version": 3
   },
   "file_extension": ".py",
   "mimetype": "text/x-python",
   "name": "python",
   "nbconvert_exporter": "python",
   "pygments_lexer": "ipython3",
   "version": "3.8.8"
  }
 },
 "nbformat": 4,
 "nbformat_minor": 4
}
